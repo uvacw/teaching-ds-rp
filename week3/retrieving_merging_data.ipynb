{
 "cells": [
  {
   "cell_type": "markdown",
   "metadata": {},
   "source": [
    "## Retrieving and cleaning data\n"
   ]
  },
  {
   "cell_type": "code",
   "execution_count": 1,
   "metadata": {},
   "outputs": [
    {
     "name": "stdout",
     "output_type": "stream",
     "text": [
      "Requirement already satisfied: sqlalchemy in /Library/Frameworks/Python.framework/Versions/3.12/lib/python3.12/site-packages (2.0.30)\n",
      "Requirement already satisfied: typing-extensions>=4.6.0 in /Library/Frameworks/Python.framework/Versions/3.12/lib/python3.12/site-packages (from sqlalchemy) (4.10.0)\n",
      "\n",
      "\u001b[1m[\u001b[0m\u001b[34;49mnotice\u001b[0m\u001b[1;39;49m]\u001b[0m\u001b[39;49m A new release of pip is available: \u001b[0m\u001b[31;49m23.3.2\u001b[0m\u001b[39;49m -> \u001b[0m\u001b[32;49m24.0\u001b[0m\n",
      "\u001b[1m[\u001b[0m\u001b[34;49mnotice\u001b[0m\u001b[1;39;49m]\u001b[0m\u001b[39;49m To update, run: \u001b[0m\u001b[32;49mpip install --upgrade pip\u001b[0m\n"
     ]
    }
   ],
   "source": [
    "!pip install sqlalchemy"
   ]
  },
  {
   "cell_type": "code",
   "execution_count": 2,
   "metadata": {},
   "outputs": [],
   "source": [
    "import pandas as pd\n",
    "from sqlalchemy import create_engine, inspect"
   ]
  },
  {
   "cell_type": "code",
   "execution_count": 3,
   "metadata": {},
   "outputs": [
    {
     "name": "stdout",
     "output_type": "stream",
     "text": [
      "['calibration', 'pre_propositions', 'propositions', 'recommendation', 'userconsent', 'userdemograph', 'userpresatisfaction', 'users', 'usersatisfaction', 'userseconddemograph', 'userselection']\n"
     ]
    }
   ],
   "source": [
    "# Create a connection to the MySQL database using SQLAlchemy\n",
    "engine = create_engine('mysql+pymysql://root:@localhost/group12')\n",
    "\n",
    "# Use the inspect module to get table names\n",
    "inspector = inspect(engine)\n",
    "tables = inspector.get_table_names()\n",
    "\n",
    "# Print the list of all tables\n",
    "print(tables)"
   ]
  },
  {
   "cell_type": "code",
   "execution_count": 22,
   "metadata": {},
   "outputs": [
    {
     "name": "stdout",
     "output_type": "stream",
     "text": [
      "        id                                           question  scale\n",
      "0    pre_1      I am considerate and kind to almost everyone.      7\n",
      "1    pre_2                   I like to cooperate with others.      7\n",
      "2    pre_3            I am helpful and unselfish with others.      7\n",
      "3    pre_4                         I have a forgiving nature.      7\n",
      "4    pre_5                           I am generally trusting.      7\n",
      "5   pre_11      When I have made a decision, I feel relieved.      7\n",
      "6   pre_12  When I am confronted with a problem, I’m dying...      7\n",
      "7   pre_13  I would quickly become impatient and irritated...      7\n",
      "8   pre_14  I would rather make a decision quickly than sl...      7\n",
      "9   pre_15  Even if I get a lot of time to make a decision...      7\n",
      "10  pre_16  I almost always feel hurried to reach a decisi...      7\n"
     ]
    }
   ],
   "source": [
    "# Query to select all items from userconsent table\n",
    "query = \"SELECT * FROM pre_propositions\"\n",
    "\n",
    "# Load data into a pandas DataFrame\n",
    "pre_propositions = pd.read_sql(query, engine)\n",
    "prefix = 'pre_'\n",
    "string_columns = ['id']\n",
    "\n",
    "for col in string_columns:\n",
    "    pre_propositions[col] = pre_propositions[col].apply(lambda x: f\"{prefix}{x}\")\n",
    "\n",
    "# Print the DataFrame\n",
    "print(pre_propositions)"
   ]
  },
  {
   "cell_type": "code",
   "execution_count": 23,
   "metadata": {},
   "outputs": [
    {
     "name": "stdout",
     "output_type": "stream",
     "text": [
      "         id                                           question  scale\n",
      "0    post_1   I think the book recommendations are credible...      7\n",
      "1    post_2                  I trust the book recommendations.      7\n",
      "2    post_3   I believe the book recommendations are trustw...      7\n",
      "3   post_11  I intend to read the book I chose from the rec...      7\n",
      "4   post_12  I will follow up and look for information abou...      7\n",
      "5   post_21        I am familiar with the author of this book.      7\n",
      "6   post_22  I am familiar with the genre this book belongs...      7\n",
      "7   post_23      I have read books similar to the one I chose.      7\n",
      "8   post_24  This is an attention check. Please select 'Str...      7\n",
      "9   post_31              I am satisfied with the book I chose.      7\n",
      "10  post_32       I would recommend the chosen book to others.      7\n",
      "11  post_33     I think I would enjoy reading the chosen book.      7\n",
      "12  post_34  I would rather pick a different book from the ...      7\n",
      "13  post_35    I think I chose the best book from the options.      7\n"
     ]
    }
   ],
   "source": [
    "# Query to select all items from userconsent table\n",
    "query = \"SELECT * FROM propositions\"\n",
    "\n",
    "# Load data into a pandas DataFrame\n",
    "propositions = pd.read_sql(query, engine)\n",
    "prefix = 'post_'\n",
    "string_columns = ['id']\n",
    "\n",
    "for col in string_columns:\n",
    "    propositions[col] = propositions[col].apply(lambda x: f\"{prefix}{x}\")\n",
    "\n",
    "# Print the DataFrame\n",
    "print(propositions)"
   ]
  },
  {
   "cell_type": "code",
   "execution_count": 4,
   "metadata": {},
   "outputs": [
    {
     "name": "stdout",
     "output_type": "stream",
     "text": [
      "   userId  consent\n",
      "0     536        1\n",
      "1     545        1\n"
     ]
    }
   ],
   "source": [
    "# Query to select all items from userconsent table\n",
    "query = \"SELECT * FROM userconsent\"\n",
    "\n",
    "# Load data into a pandas DataFrame\n",
    "userconsent = pd.read_sql(query, engine)\n",
    "\n",
    "# Print the DataFrame\n",
    "print(userconsent)"
   ]
  },
  {
   "cell_type": "code",
   "execution_count": 5,
   "metadata": {},
   "outputs": [
    {
     "name": "stdout",
     "output_type": "stream",
     "text": [
      "   userId  leeftijd  gender  opleiding  reading  genre\n",
      "0     550        12       2          3        2      2\n"
     ]
    }
   ],
   "source": [
    "# Query to select all items from userconsent table\n",
    "query = \"SELECT * FROM userdemograph\"\n",
    "\n",
    "# Load data into a pandas DataFrame\n",
    "userdemograph = pd.read_sql(query, engine)\n",
    "\n",
    "# Print the DataFrame\n",
    "print(userdemograph)"
   ]
  },
  {
   "cell_type": "code",
   "execution_count": 6,
   "metadata": {},
   "outputs": [],
   "source": [
    "# Function to add prefix to all columns except 'userId'\n",
    "def add_prefix_except_userid(df, prefix):\n",
    "    return df.rename(columns={col: f\"{prefix}{col}\" if col != \"userId\" else col for col in df.columns})"
   ]
  },
  {
   "cell_type": "code",
   "execution_count": 7,
   "metadata": {},
   "outputs": [
    {
     "name": "stdout",
     "output_type": "stream",
     "text": [
      "     userId  questionId  value\n",
      "0       534           3      4\n",
      "1       534           2      4\n",
      "2       534           1      4\n",
      "3       534           5      4\n",
      "4       534          12      2\n",
      "..      ...         ...    ...\n",
      "138     546          13      2\n",
      "139     546          15      2\n",
      "140     546          12      2\n",
      "141     546          14      2\n",
      "142     546          16      2\n",
      "\n",
      "[143 rows x 3 columns]\n"
     ]
    }
   ],
   "source": [
    "# Query to select all items from userconsent table\n",
    "query = \"SELECT * FROM userpresatisfaction\"\n",
    "\n",
    "# Load data into a pandas DataFrame\n",
    "userpresatisfaction = pd.read_sql(query, engine)\n",
    "\n",
    "# Print the DataFrame\n",
    "print(userpresatisfaction)"
   ]
  },
  {
   "cell_type": "code",
   "execution_count": 8,
   "metadata": {},
   "outputs": [],
   "source": [
    "userpresatisfaction_wide = userpresatisfaction.pivot(index='userId', columns='questionId', values='value').reset_index()\n",
    "userpresatisfaction_wide.columns.name = None"
   ]
  },
  {
   "cell_type": "code",
   "execution_count": 9,
   "metadata": {},
   "outputs": [],
   "source": [
    "# Add prefixes to column names except 'userId'\n",
    "userpresatisfaction_wide = add_prefix_except_userid(userpresatisfaction_wide, 'pre_')\n"
   ]
  },
  {
   "cell_type": "code",
   "execution_count": 10,
   "metadata": {},
   "outputs": [],
   "source": [
    "# Query to select all items from userconsent table\n",
    "#query = \"SELECT * FROM users\"\n",
    "\n",
    "# Load data into a pandas DataFrame\n",
    "#users = pd.read_sql(query, engine)\n",
    "\n",
    "# Print the DataFrame\n",
    "#print(users)"
   ]
  },
  {
   "cell_type": "code",
   "execution_count": 11,
   "metadata": {},
   "outputs": [
    {
     "name": "stdout",
     "output_type": "stream",
     "text": [
      "   userId  questionId  value                time\n",
      "0     545           5      2 2024-06-18 14:03:57\n",
      "1     545           4      2 2024-06-18 14:03:57\n",
      "2     545          14      2 2024-06-18 14:03:57\n",
      "3     545          15      2 2024-06-18 14:03:57\n",
      "4     545          16      2 2024-06-18 14:03:57\n",
      "5     545          13      2 2024-06-18 14:03:57\n"
     ]
    }
   ],
   "source": [
    "# Query to select all items from userconsent table\n",
    "query = \"SELECT * FROM usersatisfaction\"\n",
    "\n",
    "# Load data into a pandas DataFrame\n",
    "usersatisfaction = pd.read_sql(query, engine)\n",
    "\n",
    "# Print the DataFrame\n",
    "print(usersatisfaction)"
   ]
  },
  {
   "cell_type": "code",
   "execution_count": 12,
   "metadata": {},
   "outputs": [],
   "source": [
    "usersatisfaction_wide = usersatisfaction.pivot(index='userId', columns='questionId', values='value').reset_index()\n",
    "usersatisfaction_wide.columns.name = None"
   ]
  },
  {
   "cell_type": "code",
   "execution_count": 13,
   "metadata": {},
   "outputs": [],
   "source": [
    "# Add prefixes to column names except 'userId'\n",
    "usersatisfaction_wide = add_prefix_except_userid(usersatisfaction_wide, 'post_')"
   ]
  },
  {
   "cell_type": "code",
   "execution_count": 14,
   "metadata": {},
   "outputs": [
    {
     "name": "stdout",
     "output_type": "stream",
     "text": [
      "   userId  mancheck                time\n",
      "0     536         1 2024-06-18 13:40:52\n",
      "1     543         1 2024-06-18 14:00:05\n",
      "2     544         0 2024-06-18 14:02:45\n",
      "3     545         1 2024-06-18 14:03:49\n"
     ]
    }
   ],
   "source": [
    "# Query to select all items from userconsent table\n",
    "query = \"SELECT * FROM userseconddemograph\"\n",
    "\n",
    "# Load data into a pandas DataFrame\n",
    "userseconddemograph = pd.read_sql(query, engine)\n",
    "\n",
    "# Print the DataFrame\n",
    "print(userseconddemograph)"
   ]
  },
  {
   "cell_type": "code",
   "execution_count": 15,
   "metadata": {},
   "outputs": [
    {
     "name": "stdout",
     "output_type": "stream",
     "text": [
      "   userId  conditie  calibrationId  recommendationId\n",
      "0     536         0            711              1087\n",
      "1     542         1           1001              1051\n",
      "2     543         0           1380               210\n",
      "3     544         1            709               727\n",
      "4     545         0            711              1628\n"
     ]
    }
   ],
   "source": [
    "# Query to select all items from userconsent table\n",
    "query = \"SELECT * FROM userselection\"\n",
    "\n",
    "# Load data into a pandas DataFrame\n",
    "userselection = pd.read_sql(query, engine)\n",
    "\n",
    "# Print the DataFrame\n",
    "print(userselection)\n"
   ]
  },
  {
   "cell_type": "code",
   "execution_count": 16,
   "metadata": {},
   "outputs": [],
   "source": [
    "dfs = [userconsent, userdemograph, userpresatisfaction_wide, usersatisfaction_wide, userseconddemograph, userselection]\n",
    "\n",
    "# Merge all DataFrames on the userId column\n",
    "merged_df = dfs[0]\n",
    "for df in dfs[1:]:\n",
    "    merged_df = pd.merge(merged_df, df, on='userId', how=\"outer\")\n"
   ]
  },
  {
   "cell_type": "code",
   "execution_count": 25,
   "metadata": {},
   "outputs": [
    {
     "data": {
      "text/plain": [
       "Index(['userId', 'consent', 'leeftijd', 'gender', 'opleiding', 'reading',\n",
       "       'genre', 'pre_1', 'pre_2', 'pre_3', 'pre_4', 'pre_5', 'pre_11',\n",
       "       'pre_12', 'pre_13', 'pre_14', 'pre_15', 'pre_16', 'post_4', 'post_5',\n",
       "       'post_13', 'post_14', 'post_15', 'post_16', 'mancheck', 'time',\n",
       "       'conditie', 'calibrationId', 'recommendationId'],\n",
       "      dtype='object')"
      ]
     },
     "execution_count": 25,
     "metadata": {},
     "output_type": "execute_result"
    }
   ],
   "source": [
    "merged_df.columns"
   ]
  },
  {
   "cell_type": "code",
   "execution_count": 26,
   "metadata": {},
   "outputs": [],
   "source": [
    "merged_df.to_csv('final_df.csv', index=False)"
   ]
  }
 ],
 "metadata": {
  "kernelspec": {
   "display_name": "Python 3",
   "language": "python",
   "name": "python3"
  },
  "language_info": {
   "codemirror_mode": {
    "name": "ipython",
    "version": 3
   },
   "file_extension": ".py",
   "mimetype": "text/x-python",
   "name": "python",
   "nbconvert_exporter": "python",
   "pygments_lexer": "ipython3",
   "version": "3.12.1"
  }
 },
 "nbformat": 4,
 "nbformat_minor": 2
}
