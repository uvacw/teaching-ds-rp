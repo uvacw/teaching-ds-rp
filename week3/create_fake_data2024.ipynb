{
 "cells": [
  {
   "cell_type": "code",
   "execution_count": 1,
   "metadata": {},
   "outputs": [],
   "source": [
    "import pandas as pd\n",
    "import numpy as np"
   ]
  },
  {
   "cell_type": "code",
   "execution_count": 2,
   "metadata": {},
   "outputs": [],
   "source": [
    "data = pd.read_csv('final_df.csv', index_col = 0)"
   ]
  },
  {
   "cell_type": "code",
   "execution_count": 3,
   "metadata": {},
   "outputs": [],
   "source": [
    "data_simulated = pd.DataFrame(columns=data.columns)"
   ]
  },
  {
   "cell_type": "code",
   "execution_count": 4,
   "metadata": {},
   "outputs": [
    {
     "data": {
      "text/plain": [
       "Index(['userId', 'consent', 'leeftijd', 'gender', 'opleiding', 'reading',\n",
       "       'genre', 'pre_1', 'pre_2', 'pre_3', 'pre_4', 'pre_5', 'pre_11',\n",
       "       'pre_12', 'pre_13', 'pre_14', 'pre_15', 'pre_16', 'post_4', 'post_5',\n",
       "       'post_13', 'post_14', 'post_15', 'post_16', 'mancheck', 'time',\n",
       "       'conditie', 'calibrationId', 'recommendationId'],\n",
       "      dtype='object')"
      ]
     },
     "execution_count": 4,
     "metadata": {},
     "output_type": "execute_result"
    }
   ],
   "source": [
    "data_simulated.columns"
   ]
  },
  {
   "cell_type": "code",
   "execution_count": 5,
   "metadata": {},
   "outputs": [],
   "source": [
    "data_simulated['userId'] = range(1, 61)\n",
    "data_simulated['consent'] = np.random.randint(0, 2, size=len(data_simulated))\n",
    "data_simulated['leeftijd'] = np.random.randint(18, 61, size=len(data_simulated))\n",
    "data_simulated['gender'] = np.random.randint(0, 4, size=len(data_simulated))\n",
    "data_simulated['opleiding'] = np.random.randint(0, 6, size=len(data_simulated))\n",
    "data_simulated['reading'] = np.random.randint(1, 6, size=len(data_simulated))\n",
    "data_simulated['genre'] = np.random.randint(1, 11, size=len(data_simulated))"
   ]
  },
  {
   "cell_type": "code",
   "execution_count": 6,
   "metadata": {},
   "outputs": [],
   "source": [
    "# Define columns for which you want to assign random numbers\n",
    "columns = [col for col in data_simulated.columns if '_' in col]\n",
    "\n",
    "# Assign random numbers between 1 and 7 to each column\n",
    "for col in columns:\n",
    "    data_simulated[col] = np.random.randint(1, 8, size=len(data_simulated))"
   ]
  },
  {
   "cell_type": "code",
   "execution_count": 7,
   "metadata": {},
   "outputs": [],
   "source": [
    "data_simulated['mancheck'] = np.random.randint(0, 2, size=len(data_simulated))\n",
    "data_simulated['conditie'] = np.random.randint(0, 2, size=len(data_simulated))"
   ]
  },
  {
   "cell_type": "code",
   "execution_count": 9,
   "metadata": {},
   "outputs": [],
   "source": [
    "data_simulated.to_csv('group12.csv')"
   ]
  }
 ],
 "metadata": {
  "kernelspec": {
   "display_name": "Python 3",
   "language": "python",
   "name": "python3"
  },
  "language_info": {
   "codemirror_mode": {
    "name": "ipython",
    "version": 3
   },
   "file_extension": ".py",
   "mimetype": "text/x-python",
   "name": "python",
   "nbconvert_exporter": "python",
   "pygments_lexer": "ipython3",
   "version": "3.12.1"
  }
 },
 "nbformat": 4,
 "nbformat_minor": 2
}
