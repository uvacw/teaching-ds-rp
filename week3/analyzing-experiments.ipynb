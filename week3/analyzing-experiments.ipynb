{
 "cells": [
  {
   "cell_type": "markdown",
   "metadata": {},
   "source": [
    "# Analyzing simple experiments\n",
    "\n",
    "This notebook shows you how to analyze simple experiments. We expect basic knowledge from CCS1 and CCS2 - have a look at the course materials if you are unsure."
   ]
  },
  {
   "cell_type": "code",
   "execution_count": 2,
   "metadata": {
    "scrolled": true
   },
   "outputs": [
    {
     "name": "stdout",
     "output_type": "stream",
     "text": [
      "Requirement already satisfied: psython in /home/damian/.local/lib/python3.8/site-packages (0.0.16)\n",
      "Requirement already satisfied: pingouin in /home/damian/.local/lib/python3.8/site-packages (0.5.1)\n",
      "Requirement already satisfied: numpy>=1.19 in /home/damian/.local/lib/python3.8/site-packages (from pingouin) (1.19.5)\n",
      "Requirement already satisfied: scipy>=1.7 in /home/damian/.local/lib/python3.8/site-packages (from pingouin) (1.8.1)\n",
      "Requirement already satisfied: pandas>=1.0 in /home/damian/.local/lib/python3.8/site-packages (from pingouin) (1.2.4)\n",
      "Requirement already satisfied: matplotlib>=3.0.2 in /usr/local/lib/python3.8/dist-packages (from pingouin) (3.3.2)\n",
      "Requirement already satisfied: seaborn>=0.11 in /usr/local/lib/python3.8/dist-packages (from pingouin) (0.11.0)\n",
      "Requirement already satisfied: statsmodels>=0.13 in /home/damian/.local/lib/python3.8/site-packages (from pingouin) (0.13.2)\n",
      "Requirement already satisfied: scikit-learn in /usr/local/lib/python3.8/dist-packages (from pingouin) (0.23.2)\n",
      "Requirement already satisfied: pandas-flavor>=0.2.0 in /home/damian/.local/lib/python3.8/site-packages (from pingouin) (0.3.0)\n",
      "Requirement already satisfied: outdated in /home/damian/.local/lib/python3.8/site-packages (from pingouin) (0.2.1)\n",
      "Requirement already satisfied: tabulate in /home/damian/.local/lib/python3.8/site-packages (from pingouin) (0.8.7)\n",
      "Requirement already satisfied: python-dateutil>=2.7.3 in /usr/lib/python3/dist-packages (from pandas>=1.0->pingouin) (2.7.3)\n",
      "Requirement already satisfied: pytz>=2017.3 in /usr/lib/python3/dist-packages (from pandas>=1.0->pingouin) (2019.3)\n",
      "Requirement already satisfied: certifi>=2020.06.20 in /usr/local/lib/python3.8/dist-packages (from matplotlib>=3.0.2->pingouin) (2020.6.20)\n",
      "Requirement already satisfied: cycler>=0.10 in /usr/local/lib/python3.8/dist-packages (from matplotlib>=3.0.2->pingouin) (0.10.0)\n",
      "Requirement already satisfied: kiwisolver>=1.0.1 in /usr/local/lib/python3.8/dist-packages (from matplotlib>=3.0.2->pingouin) (1.3.1)\n",
      "Requirement already satisfied: pillow>=6.2.0 in /home/damian/.local/lib/python3.8/site-packages (from matplotlib>=3.0.2->pingouin) (8.0.1)\n",
      "Requirement already satisfied: pyparsing!=2.0.4,!=2.1.2,!=2.1.6,>=2.0.3 in /usr/lib/python3/dist-packages (from matplotlib>=3.0.2->pingouin) (2.4.6)\n",
      "Requirement already satisfied: patsy>=0.5.2 in /home/damian/.local/lib/python3.8/site-packages (from statsmodels>=0.13->pingouin) (0.5.2)\n",
      "Requirement already satisfied: packaging>=21.3 in /home/damian/.local/lib/python3.8/site-packages (from statsmodels>=0.13->pingouin) (21.3)\n",
      "Requirement already satisfied: joblib>=0.11 in /usr/local/lib/python3.8/dist-packages (from scikit-learn->pingouin) (0.17.0)\n",
      "Requirement already satisfied: threadpoolctl>=2.0.0 in /usr/local/lib/python3.8/dist-packages (from scikit-learn->pingouin) (2.1.0)\n",
      "Requirement already satisfied: xarray in /home/damian/.local/lib/python3.8/site-packages (from pandas-flavor>=0.2.0->pingouin) (2022.3.0)\n",
      "Requirement already satisfied: lazy-loader==0.1rc2 in /home/damian/.local/lib/python3.8/site-packages (from pandas-flavor>=0.2.0->pingouin) (0.1rc2)\n",
      "Requirement already satisfied: littleutils in /home/damian/.local/lib/python3.8/site-packages (from outdated->pingouin) (0.2.2)\n",
      "Requirement already satisfied: requests in /usr/local/lib/python3.8/dist-packages (from outdated->pingouin) (2.25.0)\n",
      "Requirement already satisfied: six in /usr/local/lib/python3.8/dist-packages (from cycler>=0.10->matplotlib>=3.0.2->pingouin) (1.15.0)\n",
      "Requirement already satisfied: chardet<4,>=3.0.2 in /usr/lib/python3/dist-packages (from requests->outdated->pingouin) (3.0.4)\n",
      "Requirement already satisfied: idna<3,>=2.5 in /usr/lib/python3/dist-packages (from requests->outdated->pingouin) (2.8)\n",
      "Requirement already satisfied: urllib3<1.27,>=1.21.1 in /usr/lib/python3/dist-packages (from requests->outdated->pingouin) (1.25.8)\n",
      "/usr/local/lib/python3.8/dist-packages/pkg_resources/__init__.py:122: PkgResourcesDeprecationWarning: 0.23ubuntu1 is an invalid version and will not be supported in a future release\n",
      "  warnings.warn(\n",
      "/usr/local/lib/python3.8/dist-packages/pkg_resources/__init__.py:122: PkgResourcesDeprecationWarning: 0.1.36ubuntu1 is an invalid version and will not be supported in a future release\n",
      "  warnings.warn(\n",
      "Collecting prettytable\n",
      "  Downloading prettytable-3.3.0-py3-none-any.whl (26 kB)\n",
      "Requirement already satisfied: wcwidth in /usr/local/lib/python3.8/dist-packages (from prettytable) (0.2.5)\n",
      "Installing collected packages: prettytable\n",
      "Successfully installed prettytable-3.3.0\n"
     ]
    }
   ],
   "source": [
    "# only need to install this once, it's for some SPSSy stuff used in Psychology but not often used in Python\n",
    "!pip install psython\n",
    "!pip install pingouin\n",
    "!pip install prettytable"
   ]
  },
  {
   "cell_type": "code",
   "execution_count": 2,
   "metadata": {},
   "outputs": [],
   "source": [
    "import pandas as pd\n",
    "import seaborn as sns\n",
    "from statsmodels.formula.api import ols\n",
    "import numpy as np\n",
    "import psython as psy\n",
    "import pingouin as pg"
   ]
  },
  {
   "cell_type": "markdown",
   "metadata": {},
   "source": [
    "## Loading the dataset\n",
    "\n",
    "We first load the dataset and inspect it.\n",
    "We also do necessary recoding.\n",
    "Note that this is a \"fake\" dataset with data I simulated; also note that your dataset may look slightly different. You should know everything about loading, recoding etc. from CCS1 and CCS2."
   ]
  },
  {
   "cell_type": "code",
   "execution_count": 3,
   "metadata": {},
   "outputs": [
    {
     "data": {
      "text/html": [
       "<div>\n",
       "<style scoped>\n",
       "    .dataframe tbody tr th:only-of-type {\n",
       "        vertical-align: middle;\n",
       "    }\n",
       "\n",
       "    .dataframe tbody tr th {\n",
       "        vertical-align: top;\n",
       "    }\n",
       "\n",
       "    .dataframe thead th {\n",
       "        text-align: right;\n",
       "    }\n",
       "</style>\n",
       "<table border=\"1\" class=\"dataframe\">\n",
       "  <thead>\n",
       "    <tr style=\"text-align: right;\">\n",
       "      <th></th>\n",
       "      <th>dv</th>\n",
       "      <th>group</th>\n",
       "      <th>gender</th>\n",
       "      <th>age</th>\n",
       "      <th>x1</th>\n",
       "      <th>x2</th>\n",
       "      <th>x3</th>\n",
       "      <th>x4</th>\n",
       "      <th>x5</th>\n",
       "    </tr>\n",
       "  </thead>\n",
       "  <tbody>\n",
       "    <tr>\n",
       "      <th>0</th>\n",
       "      <td>3.125799</td>\n",
       "      <td>1</td>\n",
       "      <td>male</td>\n",
       "      <td>26</td>\n",
       "      <td>2.096090</td>\n",
       "      <td>1.867097</td>\n",
       "      <td>2.648194</td>\n",
       "      <td>0.116307</td>\n",
       "      <td>2.935158</td>\n",
       "    </tr>\n",
       "    <tr>\n",
       "      <th>1</th>\n",
       "      <td>2.366678</td>\n",
       "      <td>1</td>\n",
       "      <td>female</td>\n",
       "      <td>24</td>\n",
       "      <td>1.635612</td>\n",
       "      <td>1.340803</td>\n",
       "      <td>2.005062</td>\n",
       "      <td>0.088061</td>\n",
       "      <td>2.222336</td>\n",
       "    </tr>\n",
       "    <tr>\n",
       "      <th>2</th>\n",
       "      <td>3.013840</td>\n",
       "      <td>1</td>\n",
       "      <td>male</td>\n",
       "      <td>18</td>\n",
       "      <td>2.028176</td>\n",
       "      <td>1.789477</td>\n",
       "      <td>2.553342</td>\n",
       "      <td>0.112141</td>\n",
       "      <td>2.830028</td>\n",
       "    </tr>\n",
       "    <tr>\n",
       "      <th>3</th>\n",
       "      <td>1.856299</td>\n",
       "      <td>1</td>\n",
       "      <td>male</td>\n",
       "      <td>27</td>\n",
       "      <td>1.326019</td>\n",
       "      <td>0.986961</td>\n",
       "      <td>1.572667</td>\n",
       "      <td>0.069070</td>\n",
       "      <td>1.743085</td>\n",
       "    </tr>\n",
       "    <tr>\n",
       "      <th>4</th>\n",
       "      <td>3.788798</td>\n",
       "      <td>1</td>\n",
       "      <td>female</td>\n",
       "      <td>22</td>\n",
       "      <td>2.498261</td>\n",
       "      <td>2.326750</td>\n",
       "      <td>3.209890</td>\n",
       "      <td>0.140976</td>\n",
       "      <td>3.557722</td>\n",
       "    </tr>\n",
       "    <tr>\n",
       "      <th>...</th>\n",
       "      <td>...</td>\n",
       "      <td>...</td>\n",
       "      <td>...</td>\n",
       "      <td>...</td>\n",
       "      <td>...</td>\n",
       "      <td>...</td>\n",
       "      <td>...</td>\n",
       "      <td>...</td>\n",
       "      <td>...</td>\n",
       "    </tr>\n",
       "    <tr>\n",
       "      <th>360</th>\n",
       "      <td>3.194810</td>\n",
       "      <td>4</td>\n",
       "      <td>female</td>\n",
       "      <td>25</td>\n",
       "      <td>2.137951</td>\n",
       "      <td>1.914942</td>\n",
       "      <td>2.706660</td>\n",
       "      <td>0.118875</td>\n",
       "      <td>2.999960</td>\n",
       "    </tr>\n",
       "    <tr>\n",
       "      <th>361</th>\n",
       "      <td>4.590034</td>\n",
       "      <td>4</td>\n",
       "      <td>male</td>\n",
       "      <td>18</td>\n",
       "      <td>2.984286</td>\n",
       "      <td>2.882242</td>\n",
       "      <td>3.888702</td>\n",
       "      <td>0.170789</td>\n",
       "      <td>4.310091</td>\n",
       "    </tr>\n",
       "    <tr>\n",
       "      <th>362</th>\n",
       "      <td>4.089445</td>\n",
       "      <td>4</td>\n",
       "      <td>male</td>\n",
       "      <td>20</td>\n",
       "      <td>2.680631</td>\n",
       "      <td>2.535187</td>\n",
       "      <td>3.464600</td>\n",
       "      <td>0.152163</td>\n",
       "      <td>3.840033</td>\n",
       "    </tr>\n",
       "    <tr>\n",
       "      <th>363</th>\n",
       "      <td>3.443459</td>\n",
       "      <td>4</td>\n",
       "      <td>female</td>\n",
       "      <td>20</td>\n",
       "      <td>2.288780</td>\n",
       "      <td>2.087328</td>\n",
       "      <td>2.917317</td>\n",
       "      <td>0.128127</td>\n",
       "      <td>3.233444</td>\n",
       "    </tr>\n",
       "    <tr>\n",
       "      <th>364</th>\n",
       "      <td>3.277618</td>\n",
       "      <td>4</td>\n",
       "      <td>female</td>\n",
       "      <td>22</td>\n",
       "      <td>2.188182</td>\n",
       "      <td>1.972352</td>\n",
       "      <td>2.776815</td>\n",
       "      <td>0.121956</td>\n",
       "      <td>3.077718</td>\n",
       "    </tr>\n",
       "  </tbody>\n",
       "</table>\n",
       "<p>365 rows × 9 columns</p>\n",
       "</div>"
      ],
      "text/plain": [
       "           dv  group  gender  age        x1        x2        x3        x4  \\\n",
       "0    3.125799      1    male   26  2.096090  1.867097  2.648194  0.116307   \n",
       "1    2.366678      1  female   24  1.635612  1.340803  2.005062  0.088061   \n",
       "2    3.013840      1    male   18  2.028176  1.789477  2.553342  0.112141   \n",
       "3    1.856299      1    male   27  1.326019  0.986961  1.572667  0.069070   \n",
       "4    3.788798      1  female   22  2.498261  2.326750  3.209890  0.140976   \n",
       "..        ...    ...     ...  ...       ...       ...       ...       ...   \n",
       "360  3.194810      4  female   25  2.137951  1.914942  2.706660  0.118875   \n",
       "361  4.590034      4    male   18  2.984286  2.882242  3.888702  0.170789   \n",
       "362  4.089445      4    male   20  2.680631  2.535187  3.464600  0.152163   \n",
       "363  3.443459      4  female   20  2.288780  2.087328  2.917317  0.128127   \n",
       "364  3.277618      4  female   22  2.188182  1.972352  2.776815  0.121956   \n",
       "\n",
       "           x5  \n",
       "0    2.935158  \n",
       "1    2.222336  \n",
       "2    2.830028  \n",
       "3    1.743085  \n",
       "4    3.557722  \n",
       "..        ...  \n",
       "360  2.999960  \n",
       "361  4.310091  \n",
       "362  3.840033  \n",
       "363  3.233444  \n",
       "364  3.077718  \n",
       "\n",
       "[365 rows x 9 columns]"
      ]
     },
     "execution_count": 3,
     "metadata": {},
     "output_type": "execute_result"
    }
   ],
   "source": [
    "df = pd.read_csv(\"data.csv\")\n",
    "df"
   ]
  },
  {
   "cell_type": "markdown",
   "metadata": {},
   "source": [
    "### Let's look at what we have:"
   ]
  },
  {
   "cell_type": "code",
   "execution_count": 4,
   "metadata": {},
   "outputs": [
    {
     "data": {
      "text/plain": [
       "count    365.000000\n",
       "mean       3.383098\n",
       "std        0.755077\n",
       "min        1.428526\n",
       "25%        2.865476\n",
       "50%        3.390215\n",
       "75%        3.897036\n",
       "max        5.802799\n",
       "Name: dv, dtype: float64"
      ]
     },
     "execution_count": 4,
     "metadata": {},
     "output_type": "execute_result"
    }
   ],
   "source": [
    "df['dv'].describe()"
   ]
  },
  {
   "cell_type": "code",
   "execution_count": 5,
   "metadata": {},
   "outputs": [
    {
     "data": {
      "text/plain": [
       "1     98\n",
       "2     77\n",
       "3    102\n",
       "4     88\n",
       "Name: group, dtype: int64"
      ]
     },
     "execution_count": 5,
     "metadata": {},
     "output_type": "execute_result"
    }
   ],
   "source": [
    "df['group'].value_counts(sort=False)"
   ]
  },
  {
   "cell_type": "code",
   "execution_count": 6,
   "metadata": {},
   "outputs": [
    {
     "data": {
      "text/plain": [
       "male      193\n",
       "female    172\n",
       "Name: gender, dtype: int64"
      ]
     },
     "execution_count": 6,
     "metadata": {},
     "output_type": "execute_result"
    }
   ],
   "source": [
    "df['gender'].value_counts(sort=False)"
   ]
  },
  {
   "cell_type": "code",
   "execution_count": 7,
   "metadata": {},
   "outputs": [
    {
     "data": {
      "text/plain": [
       "count    365.000000\n",
       "mean      22.736986\n",
       "std        2.902609\n",
       "min       18.000000\n",
       "25%       20.000000\n",
       "50%       23.000000\n",
       "75%       25.000000\n",
       "max       27.000000\n",
       "Name: age, dtype: float64"
      ]
     },
     "execution_count": 7,
     "metadata": {},
     "output_type": "execute_result"
    }
   ],
   "source": [
    "df['age'].describe()"
   ]
  },
  {
   "cell_type": "code",
   "execution_count": 8,
   "metadata": {},
   "outputs": [
    {
     "data": {
      "text/plain": [
       "<AxesSubplot:xlabel='age', ylabel='count'>"
      ]
     },
     "execution_count": 8,
     "metadata": {},
     "output_type": "execute_result"
    },
    {
     "data": {
      "image/png": "[encoded data removed]",
      "text/plain": [
       "<Figure size 432x288 with 1 Axes>"
      ]
     },
     "metadata": {
      "needs_background": "light"
     },
     "output_type": "display_data"
    }
   ],
   "source": [
    "#or some plotting if we like\n",
    "sns.countplot(x='age', data=df)"
   ]
  },
  {
   "cell_type": "code",
   "execution_count": 9,
   "metadata": {},
   "outputs": [
    {
     "data": {
      "text/plain": [
       "<AxesSubplot:xlabel='dv', ylabel='Count'>"
      ]
     },
     "execution_count": 9,
     "metadata": {},
     "output_type": "execute_result"
    },
    {
     "data": {
      "image/png": "[encoded data removed]",
      "text/plain": [
       "<Figure size 432x288 with 1 Axes>"
      ]
     },
     "metadata": {
      "needs_background": "light"
     },
     "output_type": "display_data"
    }
   ],
   "source": [
    "sns.histplot(x='dv', data=df)"
   ]
  },
  {
   "cell_type": "code",
   "execution_count": null,
   "metadata": {},
   "outputs": [],
   "source": []
  },
  {
   "cell_type": "markdown",
   "metadata": {},
   "source": [
    "## Some simple group comparison"
   ]
  },
  {
   "cell_type": "code",
   "execution_count": 10,
   "metadata": {},
   "outputs": [
    {
     "data": {
      "text/plain": [
       "<AxesSubplot:xlabel='group', ylabel='dv'>"
      ]
     },
     "execution_count": 10,
     "metadata": {},
     "output_type": "execute_result"
    },
    {
     "data": {
      "image/png": "[encoded data removed]",
      "text/plain": [
       "<Figure size 432x288 with 1 Axes>"
      ]
     },
     "metadata": {
      "needs_background": "light"
     },
     "output_type": "display_data"
    }
   ],
   "source": [
    "sns.barplot(y='dv', x='group', data=df)"
   ]
  },
  {
   "cell_type": "code",
   "execution_count": 11,
   "metadata": {
    "scrolled": true
   },
   "outputs": [
    {
     "data": {
      "text/plain": [
       "<AxesSubplot:xlabel='group', ylabel='dv'>"
      ]
     },
     "execution_count": 11,
     "metadata": {},
     "output_type": "execute_result"
    },
    {
     "data": {
      "image/png": "[encoded data removed]",
      "text/plain": [
       "<Figure size 432x288 with 1 Axes>"
      ]
     },
     "metadata": {
      "needs_background": "light"
     },
     "output_type": "display_data"
    }
   ],
   "source": [
    "# maybe a boxplot is nicer?\n",
    "\n",
    "sns.boxplot(y='dv', x='group', data=df)"
   ]
  },
  {
   "cell_type": "code",
   "execution_count": 12,
   "metadata": {},
   "outputs": [
    {
     "data": {
      "text/html": [
       "<div>\n",
       "<style scoped>\n",
       "    .dataframe tbody tr th:only-of-type {\n",
       "        vertical-align: middle;\n",
       "    }\n",
       "\n",
       "    .dataframe tbody tr th {\n",
       "        vertical-align: top;\n",
       "    }\n",
       "\n",
       "    .dataframe thead th {\n",
       "        text-align: right;\n",
       "    }\n",
       "</style>\n",
       "<table border=\"1\" class=\"dataframe\">\n",
       "  <thead>\n",
       "    <tr style=\"text-align: right;\">\n",
       "      <th></th>\n",
       "      <th>count</th>\n",
       "      <th>mean</th>\n",
       "      <th>std</th>\n",
       "      <th>min</th>\n",
       "      <th>25%</th>\n",
       "      <th>50%</th>\n",
       "      <th>75%</th>\n",
       "      <th>max</th>\n",
       "    </tr>\n",
       "    <tr>\n",
       "      <th>group</th>\n",
       "      <th></th>\n",
       "      <th></th>\n",
       "      <th></th>\n",
       "      <th></th>\n",
       "      <th></th>\n",
       "      <th></th>\n",
       "      <th></th>\n",
       "      <th></th>\n",
       "    </tr>\n",
       "  </thead>\n",
       "  <tbody>\n",
       "    <tr>\n",
       "      <th>1</th>\n",
       "      <td>98.0</td>\n",
       "      <td>3.272706</td>\n",
       "      <td>0.691306</td>\n",
       "      <td>1.428526</td>\n",
       "      <td>2.821665</td>\n",
       "      <td>3.305498</td>\n",
       "      <td>3.760571</td>\n",
       "      <td>4.796552</td>\n",
       "    </tr>\n",
       "    <tr>\n",
       "      <th>2</th>\n",
       "      <td>77.0</td>\n",
       "      <td>2.941768</td>\n",
       "      <td>0.695712</td>\n",
       "      <td>1.493880</td>\n",
       "      <td>2.463041</td>\n",
       "      <td>2.946119</td>\n",
       "      <td>3.470892</td>\n",
       "      <td>4.906704</td>\n",
       "    </tr>\n",
       "    <tr>\n",
       "      <th>3</th>\n",
       "      <td>102.0</td>\n",
       "      <td>3.439727</td>\n",
       "      <td>0.675162</td>\n",
       "      <td>1.948577</td>\n",
       "      <td>2.983307</td>\n",
       "      <td>3.470620</td>\n",
       "      <td>3.943603</td>\n",
       "      <td>4.973289</td>\n",
       "    </tr>\n",
       "    <tr>\n",
       "      <th>4</th>\n",
       "      <td>88.0</td>\n",
       "      <td>3.826560</td>\n",
       "      <td>0.715388</td>\n",
       "      <td>2.153351</td>\n",
       "      <td>3.396277</td>\n",
       "      <td>3.830987</td>\n",
       "      <td>4.245062</td>\n",
       "      <td>5.802799</td>\n",
       "    </tr>\n",
       "  </tbody>\n",
       "</table>\n",
       "</div>"
      ],
      "text/plain": [
       "       count      mean       std       min       25%       50%       75%  \\\n",
       "group                                                                      \n",
       "1       98.0  3.272706  0.691306  1.428526  2.821665  3.305498  3.760571   \n",
       "2       77.0  2.941768  0.695712  1.493880  2.463041  2.946119  3.470892   \n",
       "3      102.0  3.439727  0.675162  1.948577  2.983307  3.470620  3.943603   \n",
       "4       88.0  3.826560  0.715388  2.153351  3.396277  3.830987  4.245062   \n",
       "\n",
       "            max  \n",
       "group            \n",
       "1      4.796552  \n",
       "2      4.906704  \n",
       "3      4.973289  \n",
       "4      5.802799  "
      ]
     },
     "execution_count": 12,
     "metadata": {},
     "output_type": "execute_result"
    }
   ],
   "source": [
    "# how does the dv differ?\n",
    "df.groupby('group')['dv'].describe()"
   ]
  },
  {
   "cell_type": "code",
   "execution_count": 13,
   "metadata": {},
   "outputs": [
    {
     "data": {
      "text/html": [
       "<table class=\"simpletable\">\n",
       "<caption>OLS Regression Results</caption>\n",
       "<tr>\n",
       "  <th>Dep. Variable:</th>           <td>dv</td>        <th>  R-squared:         </th> <td>   0.167</td>\n",
       "</tr>\n",
       "<tr>\n",
       "  <th>Model:</th>                   <td>OLS</td>       <th>  Adj. R-squared:    </th> <td>   0.155</td>\n",
       "</tr>\n",
       "<tr>\n",
       "  <th>Method:</th>             <td>Least Squares</td>  <th>  F-statistic:       </th> <td>   14.36</td>\n",
       "</tr>\n",
       "<tr>\n",
       "  <th>Date:</th>             <td>Thu, 02 Jun 2022</td> <th>  Prob (F-statistic):</th> <td>7.91e-13</td>\n",
       "</tr>\n",
       "<tr>\n",
       "  <th>Time:</th>                 <td>23:30:21</td>     <th>  Log-Likelihood:    </th> <td> -381.59</td>\n",
       "</tr>\n",
       "<tr>\n",
       "  <th>No. Observations:</th>      <td>   365</td>      <th>  AIC:               </th> <td>   775.2</td>\n",
       "</tr>\n",
       "<tr>\n",
       "  <th>Df Residuals:</th>          <td>   359</td>      <th>  BIC:               </th> <td>   798.6</td>\n",
       "</tr>\n",
       "<tr>\n",
       "  <th>Df Model:</th>              <td>     5</td>      <th>                     </th>     <td> </td>   \n",
       "</tr>\n",
       "<tr>\n",
       "  <th>Covariance Type:</th>      <td>nonrobust</td>    <th>                     </th>     <td> </td>   \n",
       "</tr>\n",
       "</table>\n",
       "<table class=\"simpletable\">\n",
       "<tr>\n",
       "          <td></td>             <th>coef</th>     <th>std err</th>      <th>t</th>      <th>P>|t|</th>  <th>[0.025</th>    <th>0.975]</th>  \n",
       "</tr>\n",
       "<tr>\n",
       "  <th>Intercept</th>         <td>    3.3063</td> <td>    0.297</td> <td>   11.119</td> <td> 0.000</td> <td>    2.722</td> <td>    3.891</td>\n",
       "</tr>\n",
       "<tr>\n",
       "  <th>C(group)[T.2]</th>     <td>   -0.3379</td> <td>    0.106</td> <td>   -3.192</td> <td> 0.002</td> <td>   -0.546</td> <td>   -0.130</td>\n",
       "</tr>\n",
       "<tr>\n",
       "  <th>C(group)[T.3]</th>     <td>    0.1757</td> <td>    0.099</td> <td>    1.783</td> <td> 0.075</td> <td>   -0.018</td> <td>    0.370</td>\n",
       "</tr>\n",
       "<tr>\n",
       "  <th>C(group)[T.4]</th>     <td>    0.5491</td> <td>    0.102</td> <td>    5.380</td> <td> 0.000</td> <td>    0.348</td> <td>    0.750</td>\n",
       "</tr>\n",
       "<tr>\n",
       "  <th>C(gender)[T.male]</th> <td>   -0.0926</td> <td>    0.073</td> <td>   -1.260</td> <td> 0.208</td> <td>   -0.237</td> <td>    0.052</td>\n",
       "</tr>\n",
       "<tr>\n",
       "  <th>age</th>               <td>    0.0007</td> <td>    0.013</td> <td>    0.054</td> <td> 0.957</td> <td>   -0.024</td> <td>    0.025</td>\n",
       "</tr>\n",
       "</table>\n",
       "<table class=\"simpletable\">\n",
       "<tr>\n",
       "  <th>Omnibus:</th>       <td> 0.135</td> <th>  Durbin-Watson:     </th> <td>   1.968</td>\n",
       "</tr>\n",
       "<tr>\n",
       "  <th>Prob(Omnibus):</th> <td> 0.935</td> <th>  Jarque-Bera (JB):  </th> <td>   0.254</td>\n",
       "</tr>\n",
       "<tr>\n",
       "  <th>Skew:</th>          <td> 0.001</td> <th>  Prob(JB):          </th> <td>   0.881</td>\n",
       "</tr>\n",
       "<tr>\n",
       "  <th>Kurtosis:</th>      <td> 2.871</td> <th>  Cond. No.          </th> <td>    189.</td>\n",
       "</tr>\n",
       "</table><br/><br/>Notes:<br/>[1] Standard Errors assume that the covariance matrix of the errors is correctly specified."
      ],
      "text/plain": [
       "<class 'statsmodels.iolib.summary.Summary'>\n",
       "\"\"\"\n",
       "                            OLS Regression Results                            \n",
       "==============================================================================\n",
       "Dep. Variable:                     dv   R-squared:                       0.167\n",
       "Model:                            OLS   Adj. R-squared:                  0.155\n",
       "Method:                 Least Squares   F-statistic:                     14.36\n",
       "Date:                Thu, 02 Jun 2022   Prob (F-statistic):           7.91e-13\n",
       "Time:                        23:30:21   Log-Likelihood:                -381.59\n",
       "No. Observations:                 365   AIC:                             775.2\n",
       "Df Residuals:                     359   BIC:                             798.6\n",
       "Df Model:                           5                                         \n",
       "Covariance Type:            nonrobust                                         \n",
       "=====================================================================================\n",
       "                        coef    std err          t      P>|t|      [0.025      0.975]\n",
       "-------------------------------------------------------------------------------------\n",
       "Intercept             3.3063      0.297     11.119      0.000       2.722       3.891\n",
       "C(group)[T.2]        -0.3379      0.106     -3.192      0.002      -0.546      -0.130\n",
       "C(group)[T.3]         0.1757      0.099      1.783      0.075      -0.018       0.370\n",
       "C(group)[T.4]         0.5491      0.102      5.380      0.000       0.348       0.750\n",
       "C(gender)[T.male]    -0.0926      0.073     -1.260      0.208      -0.237       0.052\n",
       "age                   0.0007      0.013      0.054      0.957      -0.024       0.025\n",
       "==============================================================================\n",
       "Omnibus:                        0.135   Durbin-Watson:                   1.968\n",
       "Prob(Omnibus):                  0.935   Jarque-Bera (JB):                0.254\n",
       "Skew:                           0.001   Prob(JB):                        0.881\n",
       "Kurtosis:                       2.871   Cond. No.                         189.\n",
       "==============================================================================\n",
       "\n",
       "Notes:\n",
       "[1] Standard Errors assume that the covariance matrix of the errors is correctly specified.\n",
       "\"\"\""
      ]
     },
     "execution_count": 13,
     "metadata": {},
     "output_type": "execute_result"
    }
   ],
   "source": [
    "# This is how one could compare the groups using a regresion analysis. Uncomment the following line if you want to see.\n",
    "\n",
    "ols(\"dv~C(group) + age + C(gender)\", data=df).fit().summary()"
   ]
  },
  {
   "cell_type": "code",
   "execution_count": null,
   "metadata": {},
   "outputs": [],
   "source": []
  },
  {
   "cell_type": "markdown",
   "metadata": {},
   "source": [
    "# All analyses from the slides\n",
    "\n",
    "In this section of the notebook, we show *all* analyses from the lecture slides and how to do them in Python, in the order in which they are mentioned on the slides.\n",
    "\n",
    "Check for more simple analyses https://pingouin-stats.org/ (including mediation analysis!)\n",
    "\n",
    "For everything related to regression (and more advanced stuff), you may want to have a look at https://www.statsmodels.org/.\n"
   ]
  },
  {
   "cell_type": "markdown",
   "metadata": {},
   "source": [
    "## Check reliability (Cronbach's Alpha)\n",
    "\n",
    "Let's check whether the variables called `x1, x2, x3, x4, x5` measure the same construct: "
   ]
  },
  {
   "cell_type": "code",
   "execution_count": 14,
   "metadata": {},
   "outputs": [
    {
     "name": "stdout",
     "output_type": "stream",
     "text": [
      "Cronbach's alpha=0.936, confidence interval= [0.925 0.946]\n"
     ]
    },
    {
     "data": {
      "text/html": [
       "<div>\n",
       "<style scoped>\n",
       "    .dataframe tbody tr th:only-of-type {\n",
       "        vertical-align: middle;\n",
       "    }\n",
       "\n",
       "    .dataframe tbody tr th {\n",
       "        vertical-align: top;\n",
       "    }\n",
       "\n",
       "    .dataframe thead th {\n",
       "        text-align: right;\n",
       "    }\n",
       "</style>\n",
       "<table border=\"1\" class=\"dataframe\">\n",
       "  <thead>\n",
       "    <tr style=\"text-align: right;\">\n",
       "      <th></th>\n",
       "      <th>Item</th>\n",
       "      <th>Scale Mean if Item Deleted</th>\n",
       "      <th>Scale Variance if Item Deleted</th>\n",
       "      <th>Corrected Item-Total Correlation</th>\n",
       "      <th>Cronbach's Alpha if Item Deleted</th>\n",
       "    </tr>\n",
       "  </thead>\n",
       "  <tbody>\n",
       "    <tr>\n",
       "      <th>0</th>\n",
       "      <td>x1</td>\n",
       "      <td>8.214305</td>\n",
       "      <td>3.611207</td>\n",
       "      <td>1.0</td>\n",
       "      <td>0.895152</td>\n",
       "    </tr>\n",
       "    <tr>\n",
       "      <th>1</th>\n",
       "      <td>x2</td>\n",
       "      <td>8.420990</td>\n",
       "      <td>3.366683</td>\n",
       "      <td>1.0</td>\n",
       "      <td>0.888774</td>\n",
       "    </tr>\n",
       "    <tr>\n",
       "      <th>2</th>\n",
       "      <td>x3</td>\n",
       "      <td>7.600292</td>\n",
       "      <td>2.953713</td>\n",
       "      <td>1.0</td>\n",
       "      <td>0.887641</td>\n",
       "    </tr>\n",
       "    <tr>\n",
       "      <th>3</th>\n",
       "      <td>x4</td>\n",
       "      <td>10.340590</td>\n",
       "      <td>5.430052</td>\n",
       "      <td>1.0</td>\n",
       "      <td>0.990606</td>\n",
       "    </tr>\n",
       "    <tr>\n",
       "      <th>4</th>\n",
       "      <td>x5</td>\n",
       "      <td>7.289706</td>\n",
       "      <td>2.720246</td>\n",
       "      <td>1.0</td>\n",
       "      <td>0.895215</td>\n",
       "    </tr>\n",
       "  </tbody>\n",
       "</table>\n",
       "</div>"
      ],
      "text/plain": [
       "  Item  Scale Mean if Item Deleted  Scale Variance if Item Deleted  \\\n",
       "0   x1                    8.214305                        3.611207   \n",
       "1   x2                    8.420990                        3.366683   \n",
       "2   x3                    7.600292                        2.953713   \n",
       "3   x4                   10.340590                        5.430052   \n",
       "4   x5                    7.289706                        2.720246   \n",
       "\n",
       "   Corrected Item-Total Correlation  Cronbach's Alpha if Item Deleted  \n",
       "0                               1.0                          0.895152  \n",
       "1                               1.0                          0.888774  \n",
       "2                               1.0                          0.887641  \n",
       "3                               1.0                          0.990606  \n",
       "4                               1.0                          0.895215  "
      ]
     },
     "execution_count": 14,
     "metadata": {},
     "output_type": "execute_result"
    }
   ],
   "source": [
    "alpha, report = psy.cronbach_alpha_scale_if_deleted(df[['x1','x2','x3','x4','x5']])\n",
    "\n",
    "print(f\"Cronbach's alpha={alpha[0]:.3f}, confidence interval= {alpha[1]}\")\n",
    "report"
   ]
  },
  {
   "cell_type": "markdown",
   "metadata": {},
   "source": [
    "## t-test\n",
    "\n",
    "You only need to specify the variable you group by (gender) and the variable you want to test (dv) in the first line of the code and we'll print a nicely formated sentence! (plus the table)"
   ]
  },
  {
   "cell_type": "code",
   "execution_count": 15,
   "metadata": {},
   "outputs": [
    {
     "name": "stdout",
     "output_type": "stream",
     "text": [
      "We compare female (M=3.43, SD=0.791) with male (M=3.35, SD=0.718), t(347.346215441861)=0.995, p=0.3203.\n"
     ]
    },
    {
     "data": {
      "text/html": [
       "<div>\n",
       "<style scoped>\n",
       "    .dataframe tbody tr th:only-of-type {\n",
       "        vertical-align: middle;\n",
       "    }\n",
       "\n",
       "    .dataframe tbody tr th {\n",
       "        vertical-align: top;\n",
       "    }\n",
       "\n",
       "    .dataframe thead th {\n",
       "        text-align: right;\n",
       "    }\n",
       "</style>\n",
       "<table border=\"1\" class=\"dataframe\">\n",
       "  <thead>\n",
       "    <tr style=\"text-align: right;\">\n",
       "      <th></th>\n",
       "      <th>T</th>\n",
       "      <th>dof</th>\n",
       "      <th>alternative</th>\n",
       "      <th>p-val</th>\n",
       "      <th>CI95%</th>\n",
       "      <th>cohen-d</th>\n",
       "      <th>BF10</th>\n",
       "      <th>power</th>\n",
       "    </tr>\n",
       "  </thead>\n",
       "  <tbody>\n",
       "    <tr>\n",
       "      <th>T-test</th>\n",
       "      <td>0.995357</td>\n",
       "      <td>347.346215</td>\n",
       "      <td>two-sided</td>\n",
       "      <td>0.320255</td>\n",
       "      <td>[-0.08, 0.24]</td>\n",
       "      <td>0.10496</td>\n",
       "      <td>0.187</td>\n",
       "      <td>0.169661</td>\n",
       "    </tr>\n",
       "  </tbody>\n",
       "</table>\n",
       "</div>"
      ],
      "text/plain": [
       "               T         dof alternative     p-val          CI95%  cohen-d  \\\n",
       "T-test  0.995357  347.346215   two-sided  0.320255  [-0.08, 0.24]  0.10496   \n",
       "\n",
       "         BF10     power  \n",
       "T-test  0.187  0.169661  "
      ]
     },
     "execution_count": 15,
     "metadata": {},
     "output_type": "execute_result"
    }
   ],
   "source": [
    "(label1, values1), (label2, values2) = df.groupby('gender')['dv']\n",
    "\n",
    "testresult = pg.ttest(values1, values2)\n",
    "\n",
    "print(f\"We compare {label1} (M={np.mean(values1):.2f}, SD={np.std(values1):.3f}) \"\n",
    "     f\"with {label2} (M={np.mean(values2):.2f}, SD={np.std(values2):.3f}), \"\n",
    "     f\"t({testresult.iloc[0,1]})={testresult.iloc[0,0]:.3f}, \"\n",
    "     f\"p={testresult.iloc[0,3]:.4f}.\")\n",
    "\n",
    "testresult"
   ]
  },
  {
   "cell_type": "markdown",
   "metadata": {},
   "source": [
    "## ANOVA\n"
   ]
  },
  {
   "cell_type": "code",
   "execution_count": 16,
   "metadata": {},
   "outputs": [
    {
     "data": {
      "text/html": [
       "<div>\n",
       "<style scoped>\n",
       "    .dataframe tbody tr th:only-of-type {\n",
       "        vertical-align: middle;\n",
       "    }\n",
       "\n",
       "    .dataframe tbody tr th {\n",
       "        vertical-align: top;\n",
       "    }\n",
       "\n",
       "    .dataframe thead th {\n",
       "        text-align: right;\n",
       "    }\n",
       "</style>\n",
       "<table border=\"1\" class=\"dataframe\">\n",
       "  <thead>\n",
       "    <tr style=\"text-align: right;\">\n",
       "      <th></th>\n",
       "      <th>Source</th>\n",
       "      <th>SS</th>\n",
       "      <th>DF</th>\n",
       "      <th>MS</th>\n",
       "      <th>F</th>\n",
       "      <th>p-unc</th>\n",
       "      <th>np2</th>\n",
       "    </tr>\n",
       "  </thead>\n",
       "  <tbody>\n",
       "    <tr>\n",
       "      <th>0</th>\n",
       "      <td>group</td>\n",
       "      <td>33.824756</td>\n",
       "      <td>3</td>\n",
       "      <td>11.274919</td>\n",
       "      <td>23.431682</td>\n",
       "      <td>7.029862e-14</td>\n",
       "      <td>0.162986</td>\n",
       "    </tr>\n",
       "    <tr>\n",
       "      <th>1</th>\n",
       "      <td>Within</td>\n",
       "      <td>173.706936</td>\n",
       "      <td>361</td>\n",
       "      <td>0.481183</td>\n",
       "      <td>NaN</td>\n",
       "      <td>NaN</td>\n",
       "      <td>NaN</td>\n",
       "    </tr>\n",
       "  </tbody>\n",
       "</table>\n",
       "</div>"
      ],
      "text/plain": [
       "   Source          SS   DF         MS          F         p-unc       np2\n",
       "0   group   33.824756    3  11.274919  23.431682  7.029862e-14  0.162986\n",
       "1  Within  173.706936  361   0.481183        NaN           NaN       NaN"
      ]
     },
     "execution_count": 16,
     "metadata": {},
     "output_type": "execute_result"
    }
   ],
   "source": [
    "aov = pg.anova(data=df, dv='dv', between='group', detailed=True)\n",
    "aov"
   ]
  },
  {
   "cell_type": "code",
   "execution_count": 17,
   "metadata": {},
   "outputs": [
    {
     "data": {
      "text/html": [
       "<div>\n",
       "<style scoped>\n",
       "    .dataframe tbody tr th:only-of-type {\n",
       "        vertical-align: middle;\n",
       "    }\n",
       "\n",
       "    .dataframe tbody tr th {\n",
       "        vertical-align: top;\n",
       "    }\n",
       "\n",
       "    .dataframe thead th {\n",
       "        text-align: right;\n",
       "    }\n",
       "</style>\n",
       "<table border=\"1\" class=\"dataframe\">\n",
       "  <thead>\n",
       "    <tr style=\"text-align: right;\">\n",
       "      <th></th>\n",
       "      <th>A</th>\n",
       "      <th>B</th>\n",
       "      <th>mean(A)</th>\n",
       "      <th>mean(B)</th>\n",
       "      <th>diff</th>\n",
       "      <th>se</th>\n",
       "      <th>T</th>\n",
       "      <th>p-tukey</th>\n",
       "      <th>hedges</th>\n",
       "    </tr>\n",
       "  </thead>\n",
       "  <tbody>\n",
       "    <tr>\n",
       "      <th>0</th>\n",
       "      <td>1</td>\n",
       "      <td>2</td>\n",
       "      <td>3.273</td>\n",
       "      <td>2.942</td>\n",
       "      <td>0.331</td>\n",
       "      <td>0.106</td>\n",
       "      <td>3.133</td>\n",
       "      <td>0.010</td>\n",
       "      <td>0.475</td>\n",
       "    </tr>\n",
       "    <tr>\n",
       "      <th>1</th>\n",
       "      <td>1</td>\n",
       "      <td>3</td>\n",
       "      <td>3.273</td>\n",
       "      <td>3.440</td>\n",
       "      <td>-0.167</td>\n",
       "      <td>0.098</td>\n",
       "      <td>-1.702</td>\n",
       "      <td>0.324</td>\n",
       "      <td>-0.240</td>\n",
       "    </tr>\n",
       "    <tr>\n",
       "      <th>2</th>\n",
       "      <td>1</td>\n",
       "      <td>4</td>\n",
       "      <td>3.273</td>\n",
       "      <td>3.827</td>\n",
       "      <td>-0.554</td>\n",
       "      <td>0.102</td>\n",
       "      <td>-5.437</td>\n",
       "      <td>0.000</td>\n",
       "      <td>-0.795</td>\n",
       "    </tr>\n",
       "    <tr>\n",
       "      <th>3</th>\n",
       "      <td>2</td>\n",
       "      <td>3</td>\n",
       "      <td>2.942</td>\n",
       "      <td>3.440</td>\n",
       "      <td>-0.498</td>\n",
       "      <td>0.105</td>\n",
       "      <td>-4.755</td>\n",
       "      <td>0.000</td>\n",
       "      <td>-0.715</td>\n",
       "    </tr>\n",
       "    <tr>\n",
       "      <th>4</th>\n",
       "      <td>2</td>\n",
       "      <td>4</td>\n",
       "      <td>2.942</td>\n",
       "      <td>3.827</td>\n",
       "      <td>-0.885</td>\n",
       "      <td>0.108</td>\n",
       "      <td>-8.174</td>\n",
       "      <td>0.000</td>\n",
       "      <td>-1.270</td>\n",
       "    </tr>\n",
       "    <tr>\n",
       "      <th>5</th>\n",
       "      <td>3</td>\n",
       "      <td>4</td>\n",
       "      <td>3.440</td>\n",
       "      <td>3.827</td>\n",
       "      <td>-0.387</td>\n",
       "      <td>0.101</td>\n",
       "      <td>-3.833</td>\n",
       "      <td>0.001</td>\n",
       "      <td>-0.555</td>\n",
       "    </tr>\n",
       "  </tbody>\n",
       "</table>\n",
       "</div>"
      ],
      "text/plain": [
       "   A  B  mean(A)  mean(B)   diff     se      T  p-tukey  hedges\n",
       "0  1  2    3.273    2.942  0.331  0.106  3.133    0.010   0.475\n",
       "1  1  3    3.273    3.440 -0.167  0.098 -1.702    0.324  -0.240\n",
       "2  1  4    3.273    3.827 -0.554  0.102 -5.437    0.000  -0.795\n",
       "3  2  3    2.942    3.440 -0.498  0.105 -4.755    0.000  -0.715\n",
       "4  2  4    2.942    3.827 -0.885  0.108 -8.174    0.000  -1.270\n",
       "5  3  4    3.440    3.827 -0.387  0.101 -3.833    0.001  -0.555"
      ]
     },
     "execution_count": 17,
     "metadata": {},
     "output_type": "execute_result"
    }
   ],
   "source": [
    "# post-hoc test\n",
    "df.pairwise_tukey(dv='dv', between='group').round(3)"
   ]
  },
  {
   "cell_type": "markdown",
   "metadata": {},
   "source": [
    "## ANOVA with interaction effect\n",
    "\n",
    "Let's say we don't have a `1x4` but a `2x2` design:"
   ]
  },
  {
   "cell_type": "code",
   "execution_count": 29,
   "metadata": {},
   "outputs": [],
   "source": [
    "# imagine that group 1 is personalized and interactive, 2 is only personalized, 3 is not interactive but personalized, and 4 is neither\n",
    "df['personalized']=False\n",
    "df['interactive']=False\n",
    "df.loc[df['group']==1,'personalized']=True\n",
    "df.loc[df['group']==2,'personalized']=True\n",
    "df.loc[df['group']==1,'interactive']=True\n",
    "df.loc[df['group']==3,'interactive']=True"
   ]
  },
  {
   "cell_type": "code",
   "execution_count": 32,
   "metadata": {},
   "outputs": [
    {
     "data": {
      "text/html": [
       "<div>\n",
       "<style scoped>\n",
       "    .dataframe tbody tr th:only-of-type {\n",
       "        vertical-align: middle;\n",
       "    }\n",
       "\n",
       "    .dataframe tbody tr th {\n",
       "        vertical-align: top;\n",
       "    }\n",
       "\n",
       "    .dataframe thead th {\n",
       "        text-align: right;\n",
       "    }\n",
       "</style>\n",
       "<table border=\"1\" class=\"dataframe\">\n",
       "  <thead>\n",
       "    <tr style=\"text-align: right;\">\n",
       "      <th></th>\n",
       "      <th>Source</th>\n",
       "      <th>SS</th>\n",
       "      <th>DF</th>\n",
       "      <th>MS</th>\n",
       "      <th>F</th>\n",
       "      <th>p-unc</th>\n",
       "      <th>n2</th>\n",
       "    </tr>\n",
       "  </thead>\n",
       "  <tbody>\n",
       "    <tr>\n",
       "      <th>0</th>\n",
       "      <td>interactive</td>\n",
       "      <td>0.177</td>\n",
       "      <td>1.0</td>\n",
       "      <td>0.177</td>\n",
       "      <td>0.369</td>\n",
       "      <td>0.544</td>\n",
       "      <td>0.001</td>\n",
       "    </tr>\n",
       "    <tr>\n",
       "      <th>1</th>\n",
       "      <td>personalized</td>\n",
       "      <td>21.929</td>\n",
       "      <td>1.0</td>\n",
       "      <td>21.929</td>\n",
       "      <td>45.574</td>\n",
       "      <td>0.000</td>\n",
       "      <td>0.106</td>\n",
       "    </tr>\n",
       "    <tr>\n",
       "      <th>2</th>\n",
       "      <td>interactive * personalized</td>\n",
       "      <td>11.614</td>\n",
       "      <td>1.0</td>\n",
       "      <td>11.614</td>\n",
       "      <td>24.137</td>\n",
       "      <td>0.000</td>\n",
       "      <td>0.056</td>\n",
       "    </tr>\n",
       "    <tr>\n",
       "      <th>3</th>\n",
       "      <td>Residual</td>\n",
       "      <td>173.707</td>\n",
       "      <td>361.0</td>\n",
       "      <td>0.481</td>\n",
       "      <td>NaN</td>\n",
       "      <td>NaN</td>\n",
       "      <td>NaN</td>\n",
       "    </tr>\n",
       "  </tbody>\n",
       "</table>\n",
       "</div>"
      ],
      "text/plain": [
       "                       Source       SS     DF      MS       F  p-unc     n2\n",
       "0                 interactive    0.177    1.0   0.177   0.369  0.544  0.001\n",
       "1                personalized   21.929    1.0  21.929  45.574  0.000  0.106\n",
       "2  interactive * personalized   11.614    1.0  11.614  24.137  0.000  0.056\n",
       "3                    Residual  173.707  361.0   0.481     NaN    NaN    NaN"
      ]
     },
     "execution_count": 32,
     "metadata": {},
     "output_type": "execute_result"
    }
   ],
   "source": [
    "df.anova(dv=\"dv\", between=[\"interactive\", \"personalized\"],effsize=\"n2\").round(3)"
   ]
  },
  {
   "cell_type": "code",
   "execution_count": 41,
   "metadata": {},
   "outputs": [
    {
     "data": {
      "image/png": "[encoded data removed]",
      "text/plain": [
       "<Figure size 432x288 with 1 Axes>"
      ]
     },
     "execution_count": 41,
     "metadata": {},
     "output_type": "execute_result"
    },
    {
     "data": {
      "image/png": "[encoded data removed]",
      "text/plain": [
       "<Figure size 432x288 with 1 Axes>"
      ]
     },
     "metadata": {
      "needs_background": "light"
     },
     "output_type": "display_data"
    }
   ],
   "source": [
    "# I don't think one should do this when the x-axis is continous, but ANOVA-people sometimes do this:\n",
    "\n",
    "from statsmodels.graphics.factorplots import interaction_plot\n",
    "interaction_plot(df['interactive'], df['personalized'], df['dv'])"
   ]
  },
  {
   "cell_type": "code",
   "execution_count": 43,
   "metadata": {},
   "outputs": [
    {
     "data": {
      "text/plain": [
       "<seaborn.axisgrid.FacetGrid at 0x7f762e269fd0>"
      ]
     },
     "execution_count": 43,
     "metadata": {},
     "output_type": "execute_result"
    },
    {
     "data": {
      "image/png": "[encoded data removed]",
      "text/plain": [
       "<Figure size 431.625x360 with 1 Axes>"
      ]
     },
     "metadata": {
      "needs_background": "light"
     },
     "output_type": "display_data"
    }
   ],
   "source": [
    "# better plot:\n",
    "sns.catplot(x='interactive', y='dv', hue='personalized', kind='bar', data=df)"
   ]
  },
  {
   "cell_type": "markdown",
   "metadata": {},
   "source": [
    "## ANCOVA"
   ]
  },
  {
   "cell_type": "code",
   "execution_count": 36,
   "metadata": {},
   "outputs": [],
   "source": [
    "df['gender_int'] = df['gender'].map({\"male\":1,\"female\":0})"
   ]
  },
  {
   "cell_type": "code",
   "execution_count": 38,
   "metadata": {},
   "outputs": [
    {
     "data": {
      "text/html": [
       "<div>\n",
       "<style scoped>\n",
       "    .dataframe tbody tr th:only-of-type {\n",
       "        vertical-align: middle;\n",
       "    }\n",
       "\n",
       "    .dataframe tbody tr th {\n",
       "        vertical-align: top;\n",
       "    }\n",
       "\n",
       "    .dataframe thead th {\n",
       "        text-align: right;\n",
       "    }\n",
       "</style>\n",
       "<table border=\"1\" class=\"dataframe\">\n",
       "  <thead>\n",
       "    <tr style=\"text-align: right;\">\n",
       "      <th></th>\n",
       "      <th>Source</th>\n",
       "      <th>SS</th>\n",
       "      <th>DF</th>\n",
       "      <th>F</th>\n",
       "      <th>p-unc</th>\n",
       "      <th>n2</th>\n",
       "    </tr>\n",
       "  </thead>\n",
       "  <tbody>\n",
       "    <tr>\n",
       "      <th>0</th>\n",
       "      <td>group</td>\n",
       "      <td>34.018652</td>\n",
       "      <td>3</td>\n",
       "      <td>23.539438</td>\n",
       "      <td>6.243035e-14</td>\n",
       "      <td>0.163768</td>\n",
       "    </tr>\n",
       "    <tr>\n",
       "      <th>1</th>\n",
       "      <td>age</td>\n",
       "      <td>0.001413</td>\n",
       "      <td>1</td>\n",
       "      <td>0.002933</td>\n",
       "      <td>9.568421e-01</td>\n",
       "      <td>0.000007</td>\n",
       "    </tr>\n",
       "    <tr>\n",
       "      <th>2</th>\n",
       "      <td>gender_int</td>\n",
       "      <td>0.764853</td>\n",
       "      <td>1</td>\n",
       "      <td>1.587736</td>\n",
       "      <td>2.084684e-01</td>\n",
       "      <td>0.003682</td>\n",
       "    </tr>\n",
       "    <tr>\n",
       "      <th>3</th>\n",
       "      <td>Residual</td>\n",
       "      <td>172.939507</td>\n",
       "      <td>359</td>\n",
       "      <td>NaN</td>\n",
       "      <td>NaN</td>\n",
       "      <td>NaN</td>\n",
       "    </tr>\n",
       "  </tbody>\n",
       "</table>\n",
       "</div>"
      ],
      "text/plain": [
       "       Source          SS   DF          F         p-unc        n2\n",
       "0       group   34.018652    3  23.539438  6.243035e-14  0.163768\n",
       "1         age    0.001413    1   0.002933  9.568421e-01  0.000007\n",
       "2  gender_int    0.764853    1   1.587736  2.084684e-01  0.003682\n",
       "3    Residual  172.939507  359        NaN           NaN       NaN"
      ]
     },
     "execution_count": 38,
     "metadata": {},
     "output_type": "execute_result"
    }
   ],
   "source": [
    "pg.ancova(data=df, dv='dv', covar=['age', 'gender_int'], between='group',effsize=\"n2\")"
   ]
  },
  {
   "cell_type": "code",
   "execution_count": null,
   "metadata": {},
   "outputs": [],
   "source": []
  }
 ],
 "metadata": {
  "kernelspec": {
   "display_name": "Python 3",
   "language": "python",
   "name": "python3"
  },
  "language_info": {
   "codemirror_mode": {
    "name": "ipython",
    "version": 3
   },
   "file_extension": ".py",
   "mimetype": "text/x-python",
   "name": "python",
   "nbconvert_exporter": "python",
   "pygments_lexer": "ipython3",
   "version": "3.8.10"
  }
 },
 "nbformat": 4,
 "nbformat_minor": 4
}
