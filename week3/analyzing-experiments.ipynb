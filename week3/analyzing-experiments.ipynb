{
 "cells": [
  {
   "attachments": {},
   "cell_type": "markdown",
   "metadata": {},
   "source": [
    "# Analyzing simple experiments\n",
    "\n",
    "This notebook shows you how to analyze simple experiments. We expect basic knowledge from CCS1 and CCS2 - have a look at the course materials if you are unsure."
   ]
  },
  {
   "attachments": {},
   "cell_type": "markdown",
   "metadata": {},
   "source": [
    "## Setting up"
   ]
  },
  {
   "cell_type": "code",
   "execution_count": 1,
   "metadata": {
    "scrolled": true
   },
   "outputs": [],
   "source": [
    "# # only need to install this once, it's for some SPSSy stuff used in Psychology but not often used in Python\n",
    "# !pip3 install psython\n",
    "# !pip3 install pingouin\n",
    "# !pip3 install prettytable\n",
    "# !pip3 install factor_analyzer"
   ]
  },
  {
   "cell_type": "code",
   "execution_count": 2,
   "metadata": {},
   "outputs": [],
   "source": [
    "import pandas as pd\n",
    "import seaborn as sns\n",
    "from statsmodels.formula.api import ols\n",
    "import numpy as np\n",
    "import psython as psy\n",
    "import pingouin as pg\n",
    "from scipy.stats import contingency \n",
    "from factor_analyzer import FactorAnalyzer\n",
    "from factor_analyzer.factor_analyzer import calculate_bartlett_sphericity\n",
    "from factor_analyzer.factor_analyzer import calculate_kmo"
   ]
  },
  {
   "attachments": {},
   "cell_type": "markdown",
   "metadata": {},
   "source": [
    "## Loading the dataset\n",
    "\n",
    "We first load the dataset and inspect it.\n",
    "We also do necessary recoding.\n",
    "Note that this is a \"fake\" dataset with simulated data; also note that your dataset may look slightly different. You should know everything about loading, recoding etc. from CCS1 and CCS2."
   ]
  },
  {
   "cell_type": "code",
   "execution_count": 3,
   "metadata": {},
   "outputs": [
    {
     "data": {
      "text/html": [
       "<div>\n",
       "<style scoped>\n",
       "    .dataframe tbody tr th:only-of-type {\n",
       "        vertical-align: middle;\n",
       "    }\n",
       "\n",
       "    .dataframe tbody tr th {\n",
       "        vertical-align: top;\n",
       "    }\n",
       "\n",
       "    .dataframe thead th {\n",
       "        text-align: right;\n",
       "    }\n",
       "</style>\n",
       "<table border=\"1\" class=\"dataframe\">\n",
       "  <thead>\n",
       "    <tr style=\"text-align: right;\">\n",
       "      <th></th>\n",
       "      <th>group</th>\n",
       "      <th>gender</th>\n",
       "      <th>age</th>\n",
       "      <th>x1</th>\n",
       "      <th>x2</th>\n",
       "      <th>x3</th>\n",
       "      <th>x4</th>\n",
       "      <th>x5</th>\n",
       "    </tr>\n",
       "  </thead>\n",
       "  <tbody>\n",
       "    <tr>\n",
       "      <th>0</th>\n",
       "      <td>1</td>\n",
       "      <td>female</td>\n",
       "      <td>24</td>\n",
       "      <td>2.0</td>\n",
       "      <td>2.0</td>\n",
       "      <td>3.0</td>\n",
       "      <td>3.0</td>\n",
       "      <td>3.0</td>\n",
       "    </tr>\n",
       "    <tr>\n",
       "      <th>1</th>\n",
       "      <td>1</td>\n",
       "      <td>female</td>\n",
       "      <td>18</td>\n",
       "      <td>3.0</td>\n",
       "      <td>2.0</td>\n",
       "      <td>4.0</td>\n",
       "      <td>4.0</td>\n",
       "      <td>3.0</td>\n",
       "    </tr>\n",
       "    <tr>\n",
       "      <th>2</th>\n",
       "      <td>1</td>\n",
       "      <td>male</td>\n",
       "      <td>24</td>\n",
       "      <td>3.0</td>\n",
       "      <td>3.0</td>\n",
       "      <td>2.0</td>\n",
       "      <td>3.0</td>\n",
       "      <td>3.0</td>\n",
       "    </tr>\n",
       "    <tr>\n",
       "      <th>3</th>\n",
       "      <td>1</td>\n",
       "      <td>female</td>\n",
       "      <td>25</td>\n",
       "      <td>2.0</td>\n",
       "      <td>2.0</td>\n",
       "      <td>2.0</td>\n",
       "      <td>2.0</td>\n",
       "      <td>3.0</td>\n",
       "    </tr>\n",
       "    <tr>\n",
       "      <th>4</th>\n",
       "      <td>1</td>\n",
       "      <td>female</td>\n",
       "      <td>19</td>\n",
       "      <td>2.0</td>\n",
       "      <td>2.0</td>\n",
       "      <td>2.0</td>\n",
       "      <td>2.0</td>\n",
       "      <td>2.0</td>\n",
       "    </tr>\n",
       "    <tr>\n",
       "      <th>...</th>\n",
       "      <td>...</td>\n",
       "      <td>...</td>\n",
       "      <td>...</td>\n",
       "      <td>...</td>\n",
       "      <td>...</td>\n",
       "      <td>...</td>\n",
       "      <td>...</td>\n",
       "      <td>...</td>\n",
       "    </tr>\n",
       "    <tr>\n",
       "      <th>392</th>\n",
       "      <td>4</td>\n",
       "      <td>female</td>\n",
       "      <td>18</td>\n",
       "      <td>3.0</td>\n",
       "      <td>2.0</td>\n",
       "      <td>4.0</td>\n",
       "      <td>3.0</td>\n",
       "      <td>4.0</td>\n",
       "    </tr>\n",
       "    <tr>\n",
       "      <th>393</th>\n",
       "      <td>4</td>\n",
       "      <td>male</td>\n",
       "      <td>23</td>\n",
       "      <td>3.0</td>\n",
       "      <td>3.0</td>\n",
       "      <td>4.0</td>\n",
       "      <td>4.0</td>\n",
       "      <td>3.0</td>\n",
       "    </tr>\n",
       "    <tr>\n",
       "      <th>394</th>\n",
       "      <td>4</td>\n",
       "      <td>male</td>\n",
       "      <td>20</td>\n",
       "      <td>5.0</td>\n",
       "      <td>4.0</td>\n",
       "      <td>3.0</td>\n",
       "      <td>4.0</td>\n",
       "      <td>4.0</td>\n",
       "    </tr>\n",
       "    <tr>\n",
       "      <th>395</th>\n",
       "      <td>4</td>\n",
       "      <td>female</td>\n",
       "      <td>18</td>\n",
       "      <td>4.0</td>\n",
       "      <td>3.0</td>\n",
       "      <td>3.0</td>\n",
       "      <td>4.0</td>\n",
       "      <td>3.0</td>\n",
       "    </tr>\n",
       "    <tr>\n",
       "      <th>396</th>\n",
       "      <td>4</td>\n",
       "      <td>male</td>\n",
       "      <td>19</td>\n",
       "      <td>4.0</td>\n",
       "      <td>3.0</td>\n",
       "      <td>3.0</td>\n",
       "      <td>4.0</td>\n",
       "      <td>3.0</td>\n",
       "    </tr>\n",
       "  </tbody>\n",
       "</table>\n",
       "<p>397 rows × 8 columns</p>\n",
       "</div>"
      ],
      "text/plain": [
       "     group  gender  age   x1   x2   x3   x4   x5\n",
       "0        1  female   24  2.0  2.0  3.0  3.0  3.0\n",
       "1        1  female   18  3.0  2.0  4.0  4.0  3.0\n",
       "2        1    male   24  3.0  3.0  2.0  3.0  3.0\n",
       "3        1  female   25  2.0  2.0  2.0  2.0  3.0\n",
       "4        1  female   19  2.0  2.0  2.0  2.0  2.0\n",
       "..     ...     ...  ...  ...  ...  ...  ...  ...\n",
       "392      4  female   18  3.0  2.0  4.0  3.0  4.0\n",
       "393      4    male   23  3.0  3.0  4.0  4.0  3.0\n",
       "394      4    male   20  5.0  4.0  3.0  4.0  4.0\n",
       "395      4  female   18  4.0  3.0  3.0  4.0  3.0\n",
       "396      4    male   19  4.0  3.0  3.0  4.0  3.0\n",
       "\n",
       "[397 rows x 8 columns]"
      ]
     },
     "execution_count": 3,
     "metadata": {},
     "output_type": "execute_result"
    }
   ],
   "source": [
    "df = pd.read_csv(\"data.csv\")\n",
    "df"
   ]
  },
  {
   "attachments": {},
   "cell_type": "markdown",
   "metadata": {},
   "source": [
    "### Let's look at what we have:"
   ]
  },
  {
   "cell_type": "code",
   "execution_count": 4,
   "metadata": {},
   "outputs": [
    {
     "data": {
      "text/plain": [
       "group\n",
       "1     98\n",
       "2     92\n",
       "3    102\n",
       "4    105\n",
       "Name: count, dtype: int64"
      ]
     },
     "execution_count": 4,
     "metadata": {},
     "output_type": "execute_result"
    }
   ],
   "source": [
    "df['group'].value_counts(sort=False)"
   ]
  },
  {
   "cell_type": "code",
   "execution_count": 5,
   "metadata": {},
   "outputs": [
    {
     "data": {
      "text/plain": [
       "gender\n",
       "female    216\n",
       "male      181\n",
       "Name: count, dtype: int64"
      ]
     },
     "execution_count": 5,
     "metadata": {},
     "output_type": "execute_result"
    }
   ],
   "source": [
    "df['gender'].value_counts(sort=False)"
   ]
  },
  {
   "cell_type": "code",
   "execution_count": 6,
   "metadata": {},
   "outputs": [
    {
     "data": {
      "text/plain": [
       "count    397.000000\n",
       "mean      22.528967\n",
       "std        2.945171\n",
       "min       18.000000\n",
       "25%       20.000000\n",
       "50%       23.000000\n",
       "75%       25.000000\n",
       "max       27.000000\n",
       "Name: age, dtype: float64"
      ]
     },
     "execution_count": 6,
     "metadata": {},
     "output_type": "execute_result"
    }
   ],
   "source": [
    "df['age'].describe()"
   ]
  },
  {
   "cell_type": "code",
   "execution_count": 7,
   "metadata": {},
   "outputs": [
    {
     "data": {
      "text/plain": [
       "<Axes: xlabel='gender', ylabel='count'>"
      ]
     },
     "execution_count": 7,
     "metadata": {},
     "output_type": "execute_result"
    },
    {
     "data": {
      "image/png": "[encoded data removed]",
      "text/plain": [
       "<Figure size 640x480 with 1 Axes>"
      ]
     },
     "metadata": {},
     "output_type": "display_data"
    }
   ],
   "source": [
    "#or some plotting if we like\n",
    "sns.countplot(x='gender', data=df)"
   ]
  },
  {
   "cell_type": "code",
   "execution_count": 8,
   "metadata": {},
   "outputs": [
    {
     "data": {
      "text/plain": [
       "<Axes: xlabel='age', ylabel='Count'>"
      ]
     },
     "execution_count": 8,
     "metadata": {},
     "output_type": "execute_result"
    },
    {
     "data": {
      "image/png": "[encoded data removed]",
      "text/plain": [
       "<Figure size 640x480 with 1 Axes>"
      ]
     },
     "metadata": {},
     "output_type": "display_data"
    }
   ],
   "source": [
    "sns.histplot(x = 'age', data = df)"
   ]
  },
  {
   "attachments": {},
   "cell_type": "markdown",
   "metadata": {},
   "source": [
    "## Some recoding\n",
    "\n",
    "When it comes recoding variables, two methods are most commonly used with experiment data:\n",
    "- Reverse-coding (such that 5 becomes 1, 4 becomes 2, 3 remains 3, 2 becomes 4, and 1 becomes 5 for an item measured on a scale from 1 to 5).\n",
    "- Dichotomizing (such that the values smaller or equal to a value becomes 0 and the values larger than a value becomes 1)"
   ]
  },
  {
   "attachments": {},
   "cell_type": "markdown",
   "metadata": {},
   "source": [
    "### Reverse code"
   ]
  },
  {
   "cell_type": "code",
   "execution_count": 9,
   "metadata": {},
   "outputs": [
    {
     "name": "stdout",
     "output_type": "stream",
     "text": [
      "count    397.000000\n",
      "mean       2.745592\n",
      "std        0.777371\n",
      "min        1.000000\n",
      "25%        2.000000\n",
      "50%        3.000000\n",
      "75%        3.000000\n",
      "max        5.000000\n",
      "Name: x1, dtype: float64\n"
     ]
    }
   ],
   "source": [
    "# Let's consider the variable x1 below:\n",
    "print(df['x1'].describe())"
   ]
  },
  {
   "cell_type": "code",
   "execution_count": 10,
   "metadata": {},
   "outputs": [],
   "source": [
    "# We can either do it with a fancy formula: \n",
    "# we multiply the variable with -1 and then add the highest value + 1 (thus, 5 in our case)\n",
    "# check it with pen and paper, it works ;-)\n",
    "df['x1_reverse_1'] = (df['x1'] * -1 + df['x1'].max() + 1)\n",
    "\n",
    "# or we do it explicitly\n",
    "df['x1_reverse_2'] = df['x1'].map({5:1, 4:2, 3:3, 2:4, 1:5})"
   ]
  },
  {
   "attachments": {},
   "cell_type": "markdown",
   "metadata": {},
   "source": [
    "### Dichotomize\n",
    "This is handy when you want to split the sample into two groups based on one continuous variable. Then you usually do the \"median split\".\n",
    "\n",
    "We use the variable `age` here as an example."
   ]
  },
  {
   "cell_type": "code",
   "execution_count": 11,
   "metadata": {},
   "outputs": [
    {
     "name": "stdout",
     "output_type": "stream",
     "text": [
      "23.0\n"
     ]
    }
   ],
   "source": [
    "median = np.median(df['age'])\n",
    "print(median)\n",
    "\n",
    "df['age_dichotomous_1'] = (df['age']>=median).map(int)\n",
    "\n",
    "# alternative:\n",
    "df['age_dichotomous_2'] = np.where(df['age']>=median, 1, 0)"
   ]
  },
  {
   "attachments": {},
   "cell_type": "markdown",
   "metadata": {},
   "source": [
    "### Let's have a look at all our recoded colulms:"
   ]
  },
  {
   "cell_type": "code",
   "execution_count": 12,
   "metadata": {},
   "outputs": [
    {
     "data": {
      "text/html": [
       "<div>\n",
       "<style scoped>\n",
       "    .dataframe tbody tr th:only-of-type {\n",
       "        vertical-align: middle;\n",
       "    }\n",
       "\n",
       "    .dataframe tbody tr th {\n",
       "        vertical-align: top;\n",
       "    }\n",
       "\n",
       "    .dataframe thead th {\n",
       "        text-align: right;\n",
       "    }\n",
       "</style>\n",
       "<table border=\"1\" class=\"dataframe\">\n",
       "  <thead>\n",
       "    <tr style=\"text-align: right;\">\n",
       "      <th></th>\n",
       "      <th>age</th>\n",
       "      <th>x1</th>\n",
       "      <th>x1_reverse_1</th>\n",
       "      <th>x1_reverse_2</th>\n",
       "      <th>age_dichotomous_1</th>\n",
       "      <th>age_dichotomous_2</th>\n",
       "    </tr>\n",
       "  </thead>\n",
       "  <tbody>\n",
       "    <tr>\n",
       "      <th>0</th>\n",
       "      <td>24</td>\n",
       "      <td>2.0</td>\n",
       "      <td>4.0</td>\n",
       "      <td>4</td>\n",
       "      <td>1</td>\n",
       "      <td>1</td>\n",
       "    </tr>\n",
       "    <tr>\n",
       "      <th>1</th>\n",
       "      <td>18</td>\n",
       "      <td>3.0</td>\n",
       "      <td>3.0</td>\n",
       "      <td>3</td>\n",
       "      <td>0</td>\n",
       "      <td>0</td>\n",
       "    </tr>\n",
       "    <tr>\n",
       "      <th>2</th>\n",
       "      <td>24</td>\n",
       "      <td>3.0</td>\n",
       "      <td>3.0</td>\n",
       "      <td>3</td>\n",
       "      <td>1</td>\n",
       "      <td>1</td>\n",
       "    </tr>\n",
       "    <tr>\n",
       "      <th>3</th>\n",
       "      <td>25</td>\n",
       "      <td>2.0</td>\n",
       "      <td>4.0</td>\n",
       "      <td>4</td>\n",
       "      <td>1</td>\n",
       "      <td>1</td>\n",
       "    </tr>\n",
       "    <tr>\n",
       "      <th>4</th>\n",
       "      <td>19</td>\n",
       "      <td>2.0</td>\n",
       "      <td>4.0</td>\n",
       "      <td>4</td>\n",
       "      <td>0</td>\n",
       "      <td>0</td>\n",
       "    </tr>\n",
       "    <tr>\n",
       "      <th>...</th>\n",
       "      <td>...</td>\n",
       "      <td>...</td>\n",
       "      <td>...</td>\n",
       "      <td>...</td>\n",
       "      <td>...</td>\n",
       "      <td>...</td>\n",
       "    </tr>\n",
       "    <tr>\n",
       "      <th>392</th>\n",
       "      <td>18</td>\n",
       "      <td>3.0</td>\n",
       "      <td>3.0</td>\n",
       "      <td>3</td>\n",
       "      <td>0</td>\n",
       "      <td>0</td>\n",
       "    </tr>\n",
       "    <tr>\n",
       "      <th>393</th>\n",
       "      <td>23</td>\n",
       "      <td>3.0</td>\n",
       "      <td>3.0</td>\n",
       "      <td>3</td>\n",
       "      <td>1</td>\n",
       "      <td>1</td>\n",
       "    </tr>\n",
       "    <tr>\n",
       "      <th>394</th>\n",
       "      <td>20</td>\n",
       "      <td>5.0</td>\n",
       "      <td>1.0</td>\n",
       "      <td>1</td>\n",
       "      <td>0</td>\n",
       "      <td>0</td>\n",
       "    </tr>\n",
       "    <tr>\n",
       "      <th>395</th>\n",
       "      <td>18</td>\n",
       "      <td>4.0</td>\n",
       "      <td>2.0</td>\n",
       "      <td>2</td>\n",
       "      <td>0</td>\n",
       "      <td>0</td>\n",
       "    </tr>\n",
       "    <tr>\n",
       "      <th>396</th>\n",
       "      <td>19</td>\n",
       "      <td>4.0</td>\n",
       "      <td>2.0</td>\n",
       "      <td>2</td>\n",
       "      <td>0</td>\n",
       "      <td>0</td>\n",
       "    </tr>\n",
       "  </tbody>\n",
       "</table>\n",
       "<p>397 rows × 6 columns</p>\n",
       "</div>"
      ],
      "text/plain": [
       "     age   x1  x1_reverse_1  x1_reverse_2  age_dichotomous_1  \\\n",
       "0     24  2.0           4.0             4                  1   \n",
       "1     18  3.0           3.0             3                  0   \n",
       "2     24  3.0           3.0             3                  1   \n",
       "3     25  2.0           4.0             4                  1   \n",
       "4     19  2.0           4.0             4                  0   \n",
       "..   ...  ...           ...           ...                ...   \n",
       "392   18  3.0           3.0             3                  0   \n",
       "393   23  3.0           3.0             3                  1   \n",
       "394   20  5.0           1.0             1                  0   \n",
       "395   18  4.0           2.0             2                  0   \n",
       "396   19  4.0           2.0             2                  0   \n",
       "\n",
       "     age_dichotomous_2  \n",
       "0                    1  \n",
       "1                    0  \n",
       "2                    1  \n",
       "3                    1  \n",
       "4                    0  \n",
       "..                 ...  \n",
       "392                  0  \n",
       "393                  1  \n",
       "394                  0  \n",
       "395                  0  \n",
       "396                  0  \n",
       "\n",
       "[397 rows x 6 columns]"
      ]
     },
     "execution_count": 12,
     "metadata": {},
     "output_type": "execute_result"
    }
   ],
   "source": [
    "df[[col for col in df if col.startswith('x1') or col.startswith('age')]]"
   ]
  },
  {
   "attachments": {},
   "cell_type": "markdown",
   "metadata": {},
   "source": [
    "### Advanced stuff: Create new variable based on multiple columns\n",
    "Imagine  you want to create a nominal variable, say, `mygroups` based on multiple other columns. You can do that using a function:"
   ]
  },
  {
   "cell_type": "code",
   "execution_count": 13,
   "metadata": {},
   "outputs": [
    {
     "data": {
      "text/plain": [
       "mygroups\n",
       "no group    182\n",
       "group2      115\n",
       "group1      100\n",
       "Name: count, dtype: int64"
      ]
     },
     "execution_count": 13,
     "metadata": {},
     "output_type": "execute_result"
    }
   ],
   "source": [
    "def makemygroups(row):\n",
    "    # any combination of contitions can be entered here\n",
    "    if row['age_dichotomous_1'] == 0 and row['group']<=2:\n",
    "        return \"group1\"\n",
    "    elif row['age_dichotomous_1'] == 1 and row['group']>2:\n",
    "        return \"group2\"\n",
    "    else:\n",
    "        return \"no group\"\n",
    "    \n",
    "df['mygroups'] = df.apply(makemygroups,axis=1)\n",
    "df['mygroups'].value_counts()"
   ]
  },
  {
   "attachments": {},
   "cell_type": "markdown",
   "metadata": {},
   "source": [
    "# All analyses from the slides\n",
    "\n",
    "In this section of the notebook, we show *all* analyses from the lecture slides and how to do them in Python, in the order in which they are mentioned on the slides.\n",
    "\n",
    "Check for more simple analyses https://pingouin-stats.org/ (including mediation analysis!)\n",
    "\n",
    "For everything related to regression (and more advanced stuff), you may want to have a look at https://www.statsmodels.org/.\n"
   ]
  },
  {
   "attachments": {},
   "cell_type": "markdown",
   "metadata": {},
   "source": [
    "## Check validity (Factor analysis)\n",
    "The code below is a condensed version from this: https://www.datasklr.com/principal-component-analysis-and-factor-analysis/factor-analysis <br>\n",
    "You can find more comprehensive explanations from the link above.\n",
    "\n",
    "Let's check whether the variables called `x1, x2, x3, x4, x5` can form one factor: "
   ]
  },
  {
   "cell_type": "code",
   "execution_count": 14,
   "metadata": {},
   "outputs": [
    {
     "name": "stdout",
     "output_type": "stream",
     "text": [
      "634.0243760671544 8.97316663165576e-130\n",
      "0.8181994102268773\n"
     ]
    }
   ],
   "source": [
    "items = df[['x1','x2','x3','x4','x5']]\n",
    "\n",
    "#CHECK ADEQUACY\n",
    "#Bartlett\n",
    "#p-value should be 0 (statistically sig.)\n",
    "chi_square_value,p_value=calculate_bartlett_sphericity(items)\n",
    "print(chi_square_value, p_value)\n",
    "\n",
    "#KMO\n",
    "#Value should be 0.6<\n",
    "kmo_all,kmo_model=calculate_kmo(items)\n",
    "print(kmo_model)"
   ]
  },
  {
   "cell_type": "code",
   "execution_count": 15,
   "metadata": {},
   "outputs": [
    {
     "name": "stderr",
     "output_type": "stream",
     "text": [
      "/Library/Frameworks/Python.framework/Versions/3.11/lib/python3.11/site-packages/factor_analyzer/factor_analyzer.py:662: UserWarning: No rotation will be performed when the number of factors equals 1.\n",
      "  warnings.warn(\n"
     ]
    },
    {
     "data": {
      "text/html": [
       "<style>#sk-container-id-1 {color: black;background-color: white;}#sk-container-id-1 pre{padding: 0;}#sk-container-id-1 div.sk-toggleable {background-color: white;}#sk-container-id-1 label.sk-toggleable__label {cursor: pointer;display: block;width: 100%;margin-bottom: 0;padding: 0.3em;box-sizing: border-box;text-align: center;}#sk-container-id-1 label.sk-toggleable__label-arrow:before {content: \"▸\";float: left;margin-right: 0.25em;color: #696969;}#sk-container-id-1 label.sk-toggleable__label-arrow:hover:before {color: black;}#sk-container-id-1 div.sk-estimator:hover label.sk-toggleable__label-arrow:before {color: black;}#sk-container-id-1 div.sk-toggleable__content {max-height: 0;max-width: 0;overflow: hidden;text-align: left;background-color: #f0f8ff;}#sk-container-id-1 div.sk-toggleable__content pre {margin: 0.2em;color: black;border-radius: 0.25em;background-color: #f0f8ff;}#sk-container-id-1 input.sk-toggleable__control:checked~div.sk-toggleable__content {max-height: 200px;max-width: 100%;overflow: auto;}#sk-container-id-1 input.sk-toggleable__control:checked~label.sk-toggleable__label-arrow:before {content: \"▾\";}#sk-container-id-1 div.sk-estimator input.sk-toggleable__control:checked~label.sk-toggleable__label {background-color: #d4ebff;}#sk-container-id-1 div.sk-label input.sk-toggleable__control:checked~label.sk-toggleable__label {background-color: #d4ebff;}#sk-container-id-1 input.sk-hidden--visually {border: 0;clip: rect(1px 1px 1px 1px);clip: rect(1px, 1px, 1px, 1px);height: 1px;margin: -1px;overflow: hidden;padding: 0;position: absolute;width: 1px;}#sk-container-id-1 div.sk-estimator {font-family: monospace;background-color: #f0f8ff;border: 1px dotted black;border-radius: 0.25em;box-sizing: border-box;margin-bottom: 0.5em;}#sk-container-id-1 div.sk-estimator:hover {background-color: #d4ebff;}#sk-container-id-1 div.sk-parallel-item::after {content: \"\";width: 100%;border-bottom: 1px solid gray;flex-grow: 1;}#sk-container-id-1 div.sk-label:hover label.sk-toggleable__label {background-color: #d4ebff;}#sk-container-id-1 div.sk-serial::before {content: \"\";position: absolute;border-left: 1px solid gray;box-sizing: border-box;top: 0;bottom: 0;left: 50%;z-index: 0;}#sk-container-id-1 div.sk-serial {display: flex;flex-direction: column;align-items: center;background-color: white;padding-right: 0.2em;padding-left: 0.2em;position: relative;}#sk-container-id-1 div.sk-item {position: relative;z-index: 1;}#sk-container-id-1 div.sk-parallel {display: flex;align-items: stretch;justify-content: center;background-color: white;position: relative;}#sk-container-id-1 div.sk-item::before, #sk-container-id-1 div.sk-parallel-item::before {content: \"\";position: absolute;border-left: 1px solid gray;box-sizing: border-box;top: 0;bottom: 0;left: 50%;z-index: -1;}#sk-container-id-1 div.sk-parallel-item {display: flex;flex-direction: column;z-index: 1;position: relative;background-color: white;}#sk-container-id-1 div.sk-parallel-item:first-child::after {align-self: flex-end;width: 50%;}#sk-container-id-1 div.sk-parallel-item:last-child::after {align-self: flex-start;width: 50%;}#sk-container-id-1 div.sk-parallel-item:only-child::after {width: 0;}#sk-container-id-1 div.sk-dashed-wrapped {border: 1px dashed gray;margin: 0 0.4em 0.5em 0.4em;box-sizing: border-box;padding-bottom: 0.4em;background-color: white;}#sk-container-id-1 div.sk-label label {font-family: monospace;font-weight: bold;display: inline-block;line-height: 1.2em;}#sk-container-id-1 div.sk-label-container {text-align: center;}#sk-container-id-1 div.sk-container {/* jupyter's `normalize.less` sets `[hidden] { display: none; }` but bootstrap.min.css set `[hidden] { display: none !important; }` so we also need the `!important` here to be able to override the default hidden behavior on the sphinx rendered scikit-learn.org. See: https://github.com/scikit-learn/scikit-learn/issues/21755 */display: inline-block !important;position: relative;}#sk-container-id-1 div.sk-text-repr-fallback {display: none;}</style><div id=\"sk-container-id-1\" class=\"sk-top-container\"><div class=\"sk-text-repr-fallback\"><pre>FactorAnalyzer(n_factors=1, rotation_kwargs={})</pre><b>In a Jupyter environment, please rerun this cell to show the HTML representation or trust the notebook. <br />On GitHub, the HTML representation is unable to render, please try loading this page with nbviewer.org.</b></div><div class=\"sk-container\" hidden><div class=\"sk-item\"><div class=\"sk-estimator sk-toggleable\"><input class=\"sk-toggleable__control sk-hidden--visually\" id=\"sk-estimator-id-1\" type=\"checkbox\" checked><label for=\"sk-estimator-id-1\" class=\"sk-toggleable__label sk-toggleable__label-arrow\">FactorAnalyzer</label><div class=\"sk-toggleable__content\"><pre>FactorAnalyzer(n_factors=1, rotation_kwargs={})</pre></div></div></div></div></div>"
      ],
      "text/plain": [
       "FactorAnalyzer(n_factors=1, rotation_kwargs={})"
      ]
     },
     "execution_count": 15,
     "metadata": {},
     "output_type": "execute_result"
    }
   ],
   "source": [
    "# perform the factor analysis using the FactorAnalyzer class. You can specify the number of factors you want to extract using the n_factors parameter:\n",
    "fa = FactorAnalyzer(n_factors = 1)\n",
    "\n",
    "# fit the factor analysis model to your data\n",
    "fa.fit(df[['x1','x2','x3','x4','x5']])"
   ]
  },
  {
   "attachments": {},
   "cell_type": "markdown",
   "metadata": {},
   "source": [
    "Obtain the factor loadings and other factor analysis results:"
   ]
  },
  {
   "cell_type": "code",
   "execution_count": 16,
   "metadata": {},
   "outputs": [
    {
     "data": {
      "text/plain": [
       "array([[-0.84072483],\n",
       "       [-0.58270675],\n",
       "       [-0.63994323],\n",
       "       [-0.81542579],\n",
       "       [-0.48841887]])"
      ]
     },
     "execution_count": 16,
     "metadata": {},
     "output_type": "execute_result"
    }
   ],
   "source": [
    "# Get the factor loadings\n",
    "loadings = fa.loadings_\n",
    "\n",
    "loadings"
   ]
  },
  {
   "cell_type": "code",
   "execution_count": 17,
   "metadata": {},
   "outputs": [
    {
     "data": {
      "text/plain": [
       "array([0.70681824, 0.33954716, 0.40952733, 0.66491921, 0.23855299])"
      ]
     },
     "execution_count": 17,
     "metadata": {},
     "output_type": "execute_result"
    }
   ],
   "source": [
    "# Get the communalities\n",
    "communalities = fa.get_communalities()\n",
    "\n",
    "communalities"
   ]
  },
  {
   "cell_type": "code",
   "execution_count": 18,
   "metadata": {},
   "outputs": [
    {
     "data": {
      "text/plain": [
       "array([[ 2.83,  0.76,  0.65,  0.42,  0.34],\n",
       "       [ 2.36,  0.08,  0.02, -0.02, -0.08]])"
      ]
     },
     "execution_count": 18,
     "metadata": {},
     "output_type": "execute_result"
    }
   ],
   "source": [
    "# Get the eigenvalues\n",
    "#         Returns\n",
    "#         -------\n",
    "#         original_eigen_values : :obj:`numpy.ndarray`\n",
    "#             The original eigenvalues\n",
    "#         common_factor_eigen_values : :obj:`numpy.ndarray`\n",
    "#             The common factor eigenvalues\n",
    "eigenvalues = fa.get_eigenvalues()\n",
    "\n",
    "np.round(eigenvalues, decimals = 2)"
   ]
  },
  {
   "cell_type": "code",
   "execution_count": 19,
   "metadata": {},
   "outputs": [
    {
     "data": {
      "text/plain": [
       "(array([2.35936493]), array([0.47187299]), array([0.47187299]))"
      ]
     },
     "execution_count": 19,
     "metadata": {},
     "output_type": "execute_result"
    }
   ],
   "source": [
    "# Get the variance explained by each factor;  \n",
    "#         Returns\n",
    "#         -------\n",
    "#         variance : :obj:`numpy.ndarray`\n",
    "#             The factor variances.\n",
    "#         proportional_variance : :obj:`numpy.ndarray`\n",
    "#             The proportional factor variances.\n",
    "#         cumulative_variances : :obj:`numpy.ndarray`\n",
    "#             The cumulative factor variances.\n",
    "variance_explained = fa.get_factor_variance()\n",
    "\n",
    "variance_explained"
   ]
  },
  {
   "attachments": {},
   "cell_type": "markdown",
   "metadata": {},
   "source": [
    "## Check reliability (Cronbach's Alpha)\n",
    "\n",
    "Let's check whether the variables called `x1, x2, x3, x4, x5` reliably measure the same construct: "
   ]
  },
  {
   "cell_type": "code",
   "execution_count": 20,
   "metadata": {},
   "outputs": [
    {
     "data": {
      "text/plain": [
       "(0.803510414925882, array([0.771, 0.832]))"
      ]
     },
     "execution_count": 20,
     "metadata": {},
     "output_type": "execute_result"
    }
   ],
   "source": [
    "# Calculate the initial Cronbach's alpha\n",
    "pg.cronbach_alpha(items)"
   ]
  },
  {
   "cell_type": "code",
   "execution_count": 21,
   "metadata": {},
   "outputs": [
    {
     "name": "stdout",
     "output_type": "stream",
     "text": [
      "Item removed: x1\n",
      "Cronbach's alpha: (0.7197961617260301, array([0.672, 0.762]))\n",
      "\n",
      "Item removed: x2\n",
      "Cronbach's alpha: (0.7877923122294348, array([0.752, 0.82 ]))\n",
      "\n",
      "Item removed: x3\n",
      "Cronbach's alpha: (0.7722516414998, array([0.733, 0.807]))\n",
      "\n",
      "Item removed: x4\n",
      "Cronbach's alpha: (0.7280150506542677, array([0.682, 0.769]))\n",
      "\n",
      "Item removed: x5\n",
      "Cronbach's alpha: (0.8099066427480023, array([0.777, 0.839]))\n",
      "\n"
     ]
    }
   ],
   "source": [
    "# calculate the alpha value without each item\n",
    "alpha_deleted_items = []\n",
    "for item in items.columns:\n",
    "    reduced_data = items.drop(item, axis=1)\n",
    "    alpha = pg.cronbach_alpha(reduced_data)\n",
    "    alpha_deleted_items.append((item, alpha))\n",
    "\n",
    "for item, alpha in alpha_deleted_items:\n",
    "    print(\"Item removed:\", item)\n",
    "    print(\"Cronbach's alpha:\", alpha)\n",
    "    print()"
   ]
  },
  {
   "attachments": {},
   "cell_type": "markdown",
   "metadata": {},
   "source": [
    "### If we are satisfied, maybe make a new variable by calculating the mean"
   ]
  },
  {
   "cell_type": "code",
   "execution_count": 22,
   "metadata": {},
   "outputs": [],
   "source": [
    "df['dv'] = df[['x1','x2','x3','x4','x5']].mean(axis=1)   # of course, only select those you're interested in"
   ]
  },
  {
   "attachments": {},
   "cell_type": "markdown",
   "metadata": {},
   "source": [
    "## Some simple group comparison"
   ]
  },
  {
   "cell_type": "code",
   "execution_count": 23,
   "metadata": {},
   "outputs": [
    {
     "data": {
      "text/html": [
       "<div>\n",
       "<style scoped>\n",
       "    .dataframe tbody tr th:only-of-type {\n",
       "        vertical-align: middle;\n",
       "    }\n",
       "\n",
       "    .dataframe tbody tr th {\n",
       "        vertical-align: top;\n",
       "    }\n",
       "\n",
       "    .dataframe thead th {\n",
       "        text-align: right;\n",
       "    }\n",
       "</style>\n",
       "<table border=\"1\" class=\"dataframe\">\n",
       "  <thead>\n",
       "    <tr style=\"text-align: right;\">\n",
       "      <th></th>\n",
       "      <th>count</th>\n",
       "      <th>mean</th>\n",
       "      <th>std</th>\n",
       "      <th>min</th>\n",
       "      <th>25%</th>\n",
       "      <th>50%</th>\n",
       "      <th>75%</th>\n",
       "      <th>max</th>\n",
       "    </tr>\n",
       "    <tr>\n",
       "      <th>group</th>\n",
       "      <th></th>\n",
       "      <th></th>\n",
       "      <th></th>\n",
       "      <th></th>\n",
       "      <th></th>\n",
       "      <th></th>\n",
       "      <th></th>\n",
       "      <th></th>\n",
       "    </tr>\n",
       "  </thead>\n",
       "  <tbody>\n",
       "    <tr>\n",
       "      <th>1</th>\n",
       "      <td>98.0</td>\n",
       "      <td>2.667347</td>\n",
       "      <td>0.556827</td>\n",
       "      <td>1.2</td>\n",
       "      <td>2.4</td>\n",
       "      <td>2.8</td>\n",
       "      <td>3.0</td>\n",
       "      <td>4.2</td>\n",
       "    </tr>\n",
       "    <tr>\n",
       "      <th>2</th>\n",
       "      <td>92.0</td>\n",
       "      <td>2.456522</td>\n",
       "      <td>0.522316</td>\n",
       "      <td>1.4</td>\n",
       "      <td>2.0</td>\n",
       "      <td>2.4</td>\n",
       "      <td>2.8</td>\n",
       "      <td>3.8</td>\n",
       "    </tr>\n",
       "    <tr>\n",
       "      <th>3</th>\n",
       "      <td>102.0</td>\n",
       "      <td>2.762745</td>\n",
       "      <td>0.432108</td>\n",
       "      <td>1.6</td>\n",
       "      <td>2.6</td>\n",
       "      <td>2.8</td>\n",
       "      <td>3.0</td>\n",
       "      <td>3.8</td>\n",
       "    </tr>\n",
       "    <tr>\n",
       "      <th>4</th>\n",
       "      <td>105.0</td>\n",
       "      <td>2.963810</td>\n",
       "      <td>0.579642</td>\n",
       "      <td>1.8</td>\n",
       "      <td>2.4</td>\n",
       "      <td>3.0</td>\n",
       "      <td>3.4</td>\n",
       "      <td>4.2</td>\n",
       "    </tr>\n",
       "  </tbody>\n",
       "</table>\n",
       "</div>"
      ],
      "text/plain": [
       "       count      mean       std  min  25%  50%  75%  max\n",
       "group                                                    \n",
       "1       98.0  2.667347  0.556827  1.2  2.4  2.8  3.0  4.2\n",
       "2       92.0  2.456522  0.522316  1.4  2.0  2.4  2.8  3.8\n",
       "3      102.0  2.762745  0.432108  1.6  2.6  2.8  3.0  3.8\n",
       "4      105.0  2.963810  0.579642  1.8  2.4  3.0  3.4  4.2"
      ]
     },
     "execution_count": 23,
     "metadata": {},
     "output_type": "execute_result"
    }
   ],
   "source": [
    "# descriptives of dv per group\n",
    "df.groupby('group')['dv'].describe()"
   ]
  },
  {
   "cell_type": "code",
   "execution_count": 24,
   "metadata": {},
   "outputs": [
    {
     "data": {
      "text/plain": [
       "<Axes: xlabel='group', ylabel='dv'>"
      ]
     },
     "execution_count": 24,
     "metadata": {},
     "output_type": "execute_result"
    },
    {
     "data": {
      "image/png": "[encoded data removed]",
      "text/plain": [
       "<Figure size 640x480 with 1 Axes>"
      ]
     },
     "metadata": {},
     "output_type": "display_data"
    }
   ],
   "source": [
    "# some visualization\n",
    "sns.boxplot(y='dv', x='group', data=df)"
   ]
  },
  {
   "attachments": {},
   "cell_type": "markdown",
   "metadata": {},
   "source": [
    "### $\\chi^2$ -test (chi2-test)"
   ]
  },
  {
   "cell_type": "code",
   "execution_count": 25,
   "metadata": {},
   "outputs": [
    {
     "data": {
      "text/html": [
       "<div>\n",
       "<style scoped>\n",
       "    .dataframe tbody tr th:only-of-type {\n",
       "        vertical-align: middle;\n",
       "    }\n",
       "\n",
       "    .dataframe tbody tr th {\n",
       "        vertical-align: top;\n",
       "    }\n",
       "\n",
       "    .dataframe thead th {\n",
       "        text-align: right;\n",
       "    }\n",
       "</style>\n",
       "<table border=\"1\" class=\"dataframe\">\n",
       "  <thead>\n",
       "    <tr style=\"text-align: right;\">\n",
       "      <th>age_dichotomous_1</th>\n",
       "      <th>0</th>\n",
       "      <th>1</th>\n",
       "    </tr>\n",
       "    <tr>\n",
       "      <th>gender</th>\n",
       "      <th></th>\n",
       "      <th></th>\n",
       "    </tr>\n",
       "  </thead>\n",
       "  <tbody>\n",
       "    <tr>\n",
       "      <th>female</th>\n",
       "      <td>109</td>\n",
       "      <td>107</td>\n",
       "    </tr>\n",
       "    <tr>\n",
       "      <th>male</th>\n",
       "      <td>83</td>\n",
       "      <td>98</td>\n",
       "    </tr>\n",
       "  </tbody>\n",
       "</table>\n",
       "</div>"
      ],
      "text/plain": [
       "age_dichotomous_1    0    1\n",
       "gender                     \n",
       "female             109  107\n",
       "male                83   98"
      ]
     },
     "execution_count": 25,
     "metadata": {},
     "output_type": "execute_result"
    }
   ],
   "source": [
    "#let's look at the crosstab\n",
    "mycrosstab = pd.crosstab(df['gender'], df['age_dichotomous_1'])\n",
    "mycrosstab"
   ]
  },
  {
   "cell_type": "code",
   "execution_count": 26,
   "metadata": {},
   "outputs": [
    {
     "name": "stdout",
     "output_type": "stream",
     "text": [
      "𝜒²(1) = 0.663, p = 0.416 \n",
      "V = 0.046\n"
     ]
    }
   ],
   "source": [
    "# and then get the chi2 test for that table\n",
    "c, p, dof, expected = contingency.chi2_contingency(mycrosstab)\n",
    "print(f\"𝜒²({dof:.0f}) = {c:.3f}, p = {p:.3f} \")\n",
    "\n",
    "# maybe Cramer's V as well?\n",
    "print(f\"V = {contingency.association(mycrosstab,method='cramer'):.3f}\")"
   ]
  },
  {
   "attachments": {},
   "cell_type": "markdown",
   "metadata": {},
   "source": [
    "### Levene's test"
   ]
  },
  {
   "cell_type": "code",
   "execution_count": 27,
   "metadata": {},
   "outputs": [
    {
     "name": "stdout",
     "output_type": "stream",
     "text": [
      "1.720882676015554 0.1903413618401527\n"
     ]
    }
   ],
   "source": [
    "from scipy.stats import levene\n",
    "\n",
    "# Create three arrays for each sample:\n",
    "groupf = df.query('gender == \"female\"')['dv']\n",
    "groupm = df.query('gender == \"male\"')['dv']\n",
    "\n",
    "# Levene's Test in Python with Scipy:\n",
    "stat, p = levene(groupf, groupm)\n",
    "\n",
    "print(stat, p)"
   ]
  },
  {
   "attachments": {},
   "cell_type": "markdown",
   "metadata": {},
   "source": [
    "### T-test\n",
    "\n",
    "You only need to specify the variable you group by (gender) and the variable you want to test (dv) in the first line of the code and we'll print a nicely formated sentence! (plus the table)"
   ]
  },
  {
   "cell_type": "code",
   "execution_count": 28,
   "metadata": {},
   "outputs": [
    {
     "name": "stdout",
     "output_type": "stream",
     "text": [
      "We compare female (M=2.70, SD=0.578) with male (M=2.75, SD=0.523), t(392.61375191019977)=-0.884, p=0.3772.\n"
     ]
    },
    {
     "data": {
      "text/html": [
       "<div>\n",
       "<style scoped>\n",
       "    .dataframe tbody tr th:only-of-type {\n",
       "        vertical-align: middle;\n",
       "    }\n",
       "\n",
       "    .dataframe tbody tr th {\n",
       "        vertical-align: top;\n",
       "    }\n",
       "\n",
       "    .dataframe thead th {\n",
       "        text-align: right;\n",
       "    }\n",
       "</style>\n",
       "<table border=\"1\" class=\"dataframe\">\n",
       "  <thead>\n",
       "    <tr style=\"text-align: right;\">\n",
       "      <th></th>\n",
       "      <th>T</th>\n",
       "      <th>dof</th>\n",
       "      <th>alternative</th>\n",
       "      <th>p-val</th>\n",
       "      <th>CI95%</th>\n",
       "      <th>cohen-d</th>\n",
       "      <th>BF10</th>\n",
       "      <th>power</th>\n",
       "    </tr>\n",
       "  </thead>\n",
       "  <tbody>\n",
       "    <tr>\n",
       "      <th>T-test</th>\n",
       "      <td>-0.884132</td>\n",
       "      <td>392.613752</td>\n",
       "      <td>two-sided</td>\n",
       "      <td>0.377166</td>\n",
       "      <td>[-0.16, 0.06]</td>\n",
       "      <td>0.088317</td>\n",
       "      <td>0.163</td>\n",
       "      <td>0.14111</td>\n",
       "    </tr>\n",
       "  </tbody>\n",
       "</table>\n",
       "</div>"
      ],
      "text/plain": [
       "               T         dof alternative     p-val          CI95%   cohen-d  \\\n",
       "T-test -0.884132  392.613752   two-sided  0.377166  [-0.16, 0.06]  0.088317   \n",
       "\n",
       "         BF10    power  \n",
       "T-test  0.163  0.14111  "
      ]
     },
     "execution_count": 28,
     "metadata": {},
     "output_type": "execute_result"
    }
   ],
   "source": [
    "(label1, values1), (label2, values2) = df.groupby('gender')['dv']\n",
    "\n",
    "testresult = pg.ttest(values1, values2)\n",
    "\n",
    "print(f\"We compare {label1} (M={np.mean(values1):.2f}, SD={np.std(values1):.3f}) \"\n",
    "     f\"with {label2} (M={np.mean(values2):.2f}, SD={np.std(values2):.3f}), \"\n",
    "     f\"t({testresult.iloc[0,1]})={testresult.iloc[0,0]:.3f}, \"\n",
    "     f\"p={testresult.iloc[0,3]:.4f}.\")\n",
    "\n",
    "testresult"
   ]
  },
  {
   "attachments": {},
   "cell_type": "markdown",
   "metadata": {},
   "source": [
    "### ANOVA\n"
   ]
  },
  {
   "cell_type": "code",
   "execution_count": 29,
   "metadata": {},
   "outputs": [
    {
     "data": {
      "text/html": [
       "<div>\n",
       "<style scoped>\n",
       "    .dataframe tbody tr th:only-of-type {\n",
       "        vertical-align: middle;\n",
       "    }\n",
       "\n",
       "    .dataframe tbody tr th {\n",
       "        vertical-align: top;\n",
       "    }\n",
       "\n",
       "    .dataframe thead th {\n",
       "        text-align: right;\n",
       "    }\n",
       "</style>\n",
       "<table border=\"1\" class=\"dataframe\">\n",
       "  <thead>\n",
       "    <tr style=\"text-align: right;\">\n",
       "      <th></th>\n",
       "      <th>Source</th>\n",
       "      <th>SS</th>\n",
       "      <th>DF</th>\n",
       "      <th>MS</th>\n",
       "      <th>F</th>\n",
       "      <th>p-unc</th>\n",
       "      <th>np2</th>\n",
       "    </tr>\n",
       "  </thead>\n",
       "  <tbody>\n",
       "    <tr>\n",
       "      <th>0</th>\n",
       "      <td>group</td>\n",
       "      <td>13.085505</td>\n",
       "      <td>3</td>\n",
       "      <td>4.361835</td>\n",
       "      <td>15.769657</td>\n",
       "      <td>1.057304e-09</td>\n",
       "      <td>0.107445</td>\n",
       "    </tr>\n",
       "    <tr>\n",
       "      <th>1</th>\n",
       "      <td>Within</td>\n",
       "      <td>108.702505</td>\n",
       "      <td>393</td>\n",
       "      <td>0.276597</td>\n",
       "      <td>NaN</td>\n",
       "      <td>NaN</td>\n",
       "      <td>NaN</td>\n",
       "    </tr>\n",
       "  </tbody>\n",
       "</table>\n",
       "</div>"
      ],
      "text/plain": [
       "   Source          SS   DF        MS          F         p-unc       np2\n",
       "0   group   13.085505    3  4.361835  15.769657  1.057304e-09  0.107445\n",
       "1  Within  108.702505  393  0.276597        NaN           NaN       NaN"
      ]
     },
     "execution_count": 29,
     "metadata": {},
     "output_type": "execute_result"
    }
   ],
   "source": [
    "aov = pg.anova(data=df, dv='dv', between='group', detailed=True)\n",
    "aov"
   ]
  },
  {
   "cell_type": "code",
   "execution_count": 30,
   "metadata": {},
   "outputs": [
    {
     "data": {
      "text/html": [
       "<div>\n",
       "<style scoped>\n",
       "    .dataframe tbody tr th:only-of-type {\n",
       "        vertical-align: middle;\n",
       "    }\n",
       "\n",
       "    .dataframe tbody tr th {\n",
       "        vertical-align: top;\n",
       "    }\n",
       "\n",
       "    .dataframe thead th {\n",
       "        text-align: right;\n",
       "    }\n",
       "</style>\n",
       "<table border=\"1\" class=\"dataframe\">\n",
       "  <thead>\n",
       "    <tr style=\"text-align: right;\">\n",
       "      <th></th>\n",
       "      <th>A</th>\n",
       "      <th>B</th>\n",
       "      <th>mean(A)</th>\n",
       "      <th>mean(B)</th>\n",
       "      <th>diff</th>\n",
       "      <th>se</th>\n",
       "      <th>T</th>\n",
       "      <th>p-tukey</th>\n",
       "      <th>hedges</th>\n",
       "    </tr>\n",
       "  </thead>\n",
       "  <tbody>\n",
       "    <tr>\n",
       "      <th>0</th>\n",
       "      <td>1</td>\n",
       "      <td>2</td>\n",
       "      <td>2.667</td>\n",
       "      <td>2.457</td>\n",
       "      <td>0.211</td>\n",
       "      <td>0.076</td>\n",
       "      <td>2.761</td>\n",
       "      <td>0.031</td>\n",
       "      <td>0.389</td>\n",
       "    </tr>\n",
       "    <tr>\n",
       "      <th>1</th>\n",
       "      <td>1</td>\n",
       "      <td>3</td>\n",
       "      <td>2.667</td>\n",
       "      <td>2.763</td>\n",
       "      <td>-0.095</td>\n",
       "      <td>0.074</td>\n",
       "      <td>-1.282</td>\n",
       "      <td>0.575</td>\n",
       "      <td>-0.191</td>\n",
       "    </tr>\n",
       "    <tr>\n",
       "      <th>2</th>\n",
       "      <td>1</td>\n",
       "      <td>4</td>\n",
       "      <td>2.667</td>\n",
       "      <td>2.964</td>\n",
       "      <td>-0.296</td>\n",
       "      <td>0.074</td>\n",
       "      <td>-4.013</td>\n",
       "      <td>0.000</td>\n",
       "      <td>-0.519</td>\n",
       "    </tr>\n",
       "    <tr>\n",
       "      <th>3</th>\n",
       "      <td>2</td>\n",
       "      <td>3</td>\n",
       "      <td>2.457</td>\n",
       "      <td>2.763</td>\n",
       "      <td>-0.306</td>\n",
       "      <td>0.076</td>\n",
       "      <td>-4.050</td>\n",
       "      <td>0.000</td>\n",
       "      <td>-0.639</td>\n",
       "    </tr>\n",
       "    <tr>\n",
       "      <th>4</th>\n",
       "      <td>2</td>\n",
       "      <td>4</td>\n",
       "      <td>2.457</td>\n",
       "      <td>2.964</td>\n",
       "      <td>-0.507</td>\n",
       "      <td>0.075</td>\n",
       "      <td>-6.754</td>\n",
       "      <td>0.000</td>\n",
       "      <td>-0.913</td>\n",
       "    </tr>\n",
       "    <tr>\n",
       "      <th>5</th>\n",
       "      <td>3</td>\n",
       "      <td>4</td>\n",
       "      <td>2.763</td>\n",
       "      <td>2.964</td>\n",
       "      <td>-0.201</td>\n",
       "      <td>0.073</td>\n",
       "      <td>-2.750</td>\n",
       "      <td>0.032</td>\n",
       "      <td>-0.391</td>\n",
       "    </tr>\n",
       "  </tbody>\n",
       "</table>\n",
       "</div>"
      ],
      "text/plain": [
       "   A  B  mean(A)  mean(B)   diff     se      T  p-tukey  hedges\n",
       "0  1  2    2.667    2.457  0.211  0.076  2.761    0.031   0.389\n",
       "1  1  3    2.667    2.763 -0.095  0.074 -1.282    0.575  -0.191\n",
       "2  1  4    2.667    2.964 -0.296  0.074 -4.013    0.000  -0.519\n",
       "3  2  3    2.457    2.763 -0.306  0.076 -4.050    0.000  -0.639\n",
       "4  2  4    2.457    2.964 -0.507  0.075 -6.754    0.000  -0.913\n",
       "5  3  4    2.763    2.964 -0.201  0.073 -2.750    0.032  -0.391"
      ]
     },
     "execution_count": 30,
     "metadata": {},
     "output_type": "execute_result"
    }
   ],
   "source": [
    "# post-hoc test\n",
    "df.pairwise_tukey(dv='dv', between='group').round(3)"
   ]
  },
  {
   "attachments": {},
   "cell_type": "markdown",
   "metadata": {},
   "source": [
    "### ANOVA with interaction effect\n",
    "\n",
    "Let's say we don't have a `1x4` but a `2x2` design:"
   ]
  },
  {
   "cell_type": "code",
   "execution_count": 31,
   "metadata": {},
   "outputs": [],
   "source": [
    "# imagine that group 1 is personalized and interactive, 2 is only personalized, 3 is not interactive but personalized, and 4 is neither\n",
    "df['personalized']=False\n",
    "df['interactive']=False\n",
    "df.loc[df['group']==1,'personalized']=True\n",
    "df.loc[df['group']==2,'personalized']=True\n",
    "df.loc[df['group']==1,'interactive']=True\n",
    "df.loc[df['group']==3,'interactive']=True"
   ]
  },
  {
   "cell_type": "code",
   "execution_count": 32,
   "metadata": {},
   "outputs": [
    {
     "data": {
      "text/html": [
       "<div>\n",
       "<style scoped>\n",
       "    .dataframe tbody tr th:only-of-type {\n",
       "        vertical-align: middle;\n",
       "    }\n",
       "\n",
       "    .dataframe tbody tr th {\n",
       "        vertical-align: top;\n",
       "    }\n",
       "\n",
       "    .dataframe thead th {\n",
       "        text-align: right;\n",
       "    }\n",
       "</style>\n",
       "<table border=\"1\" class=\"dataframe\">\n",
       "  <thead>\n",
       "    <tr style=\"text-align: right;\">\n",
       "      <th></th>\n",
       "      <th>Source</th>\n",
       "      <th>SS</th>\n",
       "      <th>DF</th>\n",
       "      <th>MS</th>\n",
       "      <th>F</th>\n",
       "      <th>p-unc</th>\n",
       "      <th>n2</th>\n",
       "    </tr>\n",
       "  </thead>\n",
       "  <tbody>\n",
       "    <tr>\n",
       "      <th>0</th>\n",
       "      <td>interactive</td>\n",
       "      <td>0.002</td>\n",
       "      <td>1.0</td>\n",
       "      <td>0.002</td>\n",
       "      <td>0.006</td>\n",
       "      <td>0.939</td>\n",
       "      <td>0.000</td>\n",
       "    </tr>\n",
       "    <tr>\n",
       "      <th>1</th>\n",
       "      <td>personalized</td>\n",
       "      <td>8.875</td>\n",
       "      <td>1.0</td>\n",
       "      <td>8.875</td>\n",
       "      <td>32.085</td>\n",
       "      <td>0.000</td>\n",
       "      <td>0.073</td>\n",
       "    </tr>\n",
       "    <tr>\n",
       "      <th>2</th>\n",
       "      <td>interactive * personalized</td>\n",
       "      <td>4.199</td>\n",
       "      <td>1.0</td>\n",
       "      <td>4.199</td>\n",
       "      <td>15.182</td>\n",
       "      <td>0.000</td>\n",
       "      <td>0.034</td>\n",
       "    </tr>\n",
       "    <tr>\n",
       "      <th>3</th>\n",
       "      <td>Residual</td>\n",
       "      <td>108.703</td>\n",
       "      <td>393.0</td>\n",
       "      <td>0.277</td>\n",
       "      <td>NaN</td>\n",
       "      <td>NaN</td>\n",
       "      <td>NaN</td>\n",
       "    </tr>\n",
       "  </tbody>\n",
       "</table>\n",
       "</div>"
      ],
      "text/plain": [
       "                       Source       SS     DF     MS       F  p-unc     n2\n",
       "0                 interactive    0.002    1.0  0.002   0.006  0.939  0.000\n",
       "1                personalized    8.875    1.0  8.875  32.085  0.000  0.073\n",
       "2  interactive * personalized    4.199    1.0  4.199  15.182  0.000  0.034\n",
       "3                    Residual  108.703  393.0  0.277     NaN    NaN    NaN"
      ]
     },
     "execution_count": 32,
     "metadata": {},
     "output_type": "execute_result"
    }
   ],
   "source": [
    "df.anova(dv=\"dv\", between=[\"interactive\", \"personalized\"],effsize=\"n2\").round(3)"
   ]
  },
  {
   "cell_type": "code",
   "execution_count": 33,
   "metadata": {},
   "outputs": [
    {
     "data": {
      "text/plain": [
       "<seaborn.axisgrid.FacetGrid at 0x15b5ac710>"
      ]
     },
     "execution_count": 33,
     "metadata": {},
     "output_type": "execute_result"
    },
    {
     "data": {
      "image/png": "[encoded data removed]",
      "text/plain": [
       "<Figure size 599.736x500 with 1 Axes>"
      ]
     },
     "metadata": {},
     "output_type": "display_data"
    }
   ],
   "source": [
    "# interaction plot:\n",
    "sns.catplot(x='interactive', y='dv', hue='personalized', kind='bar', data=df)"
   ]
  },
  {
   "attachments": {},
   "cell_type": "markdown",
   "metadata": {},
   "source": [
    "### ANCOVA"
   ]
  },
  {
   "cell_type": "code",
   "execution_count": 34,
   "metadata": {},
   "outputs": [],
   "source": [
    "df['gender_int'] = df['gender'].map({\"male\":1,\"female\":0})"
   ]
  },
  {
   "cell_type": "code",
   "execution_count": 35,
   "metadata": {},
   "outputs": [
    {
     "data": {
      "text/html": [
       "<div>\n",
       "<style scoped>\n",
       "    .dataframe tbody tr th:only-of-type {\n",
       "        vertical-align: middle;\n",
       "    }\n",
       "\n",
       "    .dataframe tbody tr th {\n",
       "        vertical-align: top;\n",
       "    }\n",
       "\n",
       "    .dataframe thead th {\n",
       "        text-align: right;\n",
       "    }\n",
       "</style>\n",
       "<table border=\"1\" class=\"dataframe\">\n",
       "  <thead>\n",
       "    <tr style=\"text-align: right;\">\n",
       "      <th></th>\n",
       "      <th>Source</th>\n",
       "      <th>SS</th>\n",
       "      <th>DF</th>\n",
       "      <th>F</th>\n",
       "      <th>p-unc</th>\n",
       "      <th>n2</th>\n",
       "    </tr>\n",
       "  </thead>\n",
       "  <tbody>\n",
       "    <tr>\n",
       "      <th>0</th>\n",
       "      <td>group</td>\n",
       "      <td>12.891388</td>\n",
       "      <td>3</td>\n",
       "      <td>15.464759</td>\n",
       "      <td>1.586913e-09</td>\n",
       "      <td>0.106021</td>\n",
       "    </tr>\n",
       "    <tr>\n",
       "      <th>1</th>\n",
       "      <td>age</td>\n",
       "      <td>0.028897</td>\n",
       "      <td>1</td>\n",
       "      <td>0.103997</td>\n",
       "      <td>7.472571e-01</td>\n",
       "      <td>0.000238</td>\n",
       "    </tr>\n",
       "    <tr>\n",
       "      <th>2</th>\n",
       "      <td>gender_int</td>\n",
       "      <td>0.027351</td>\n",
       "      <td>1</td>\n",
       "      <td>0.098432</td>\n",
       "      <td>7.538865e-01</td>\n",
       "      <td>0.000225</td>\n",
       "    </tr>\n",
       "    <tr>\n",
       "      <th>3</th>\n",
       "      <td>Residual</td>\n",
       "      <td>108.645574</td>\n",
       "      <td>391</td>\n",
       "      <td>NaN</td>\n",
       "      <td>NaN</td>\n",
       "      <td>NaN</td>\n",
       "    </tr>\n",
       "  </tbody>\n",
       "</table>\n",
       "</div>"
      ],
      "text/plain": [
       "       Source          SS   DF          F         p-unc        n2\n",
       "0       group   12.891388    3  15.464759  1.586913e-09  0.106021\n",
       "1         age    0.028897    1   0.103997  7.472571e-01  0.000238\n",
       "2  gender_int    0.027351    1   0.098432  7.538865e-01  0.000225\n",
       "3    Residual  108.645574  391        NaN           NaN       NaN"
      ]
     },
     "execution_count": 35,
     "metadata": {},
     "output_type": "execute_result"
    }
   ],
   "source": [
    "pg.ancova(data=df, dv='dv', covar=['age', 'gender_int'], between='group',effsize=\"n2\")"
   ]
  },
  {
   "attachments": {},
   "cell_type": "markdown",
   "metadata": {},
   "source": [
    "### Mediation Analysis\n",
    "Let's assume that we want to recode `x1, x2, ... x5` from the dataframe above into `some_mediator` (see Cronbach's alpha above) and test the model `age --> some_mediator --> dv`:"
   ]
  },
  {
   "cell_type": "code",
   "execution_count": 36,
   "metadata": {},
   "outputs": [],
   "source": [
    "df['some_mediator'] = df[['x1','x2','x3','x4','x5']].mean(axis=1)"
   ]
  },
  {
   "cell_type": "code",
   "execution_count": 37,
   "metadata": {},
   "outputs": [
    {
     "data": {
      "text/html": [
       "<div>\n",
       "<style scoped>\n",
       "    .dataframe tbody tr th:only-of-type {\n",
       "        vertical-align: middle;\n",
       "    }\n",
       "\n",
       "    .dataframe tbody tr th {\n",
       "        vertical-align: top;\n",
       "    }\n",
       "\n",
       "    .dataframe thead th {\n",
       "        text-align: right;\n",
       "    }\n",
       "</style>\n",
       "<table border=\"1\" class=\"dataframe\">\n",
       "  <thead>\n",
       "    <tr style=\"text-align: right;\">\n",
       "      <th></th>\n",
       "      <th>path</th>\n",
       "      <th>coef</th>\n",
       "      <th>se</th>\n",
       "      <th>pval</th>\n",
       "      <th>CI[2.5%]</th>\n",
       "      <th>CI[97.5%]</th>\n",
       "      <th>sig</th>\n",
       "    </tr>\n",
       "  </thead>\n",
       "  <tbody>\n",
       "    <tr>\n",
       "      <th>0</th>\n",
       "      <td>some_mediator ~ X</td>\n",
       "      <td>0.002185</td>\n",
       "      <td>9.473629e-03</td>\n",
       "      <td>0.81775</td>\n",
       "      <td>-1.644048e-02</td>\n",
       "      <td>2.080960e-02</td>\n",
       "      <td>No</td>\n",
       "    </tr>\n",
       "    <tr>\n",
       "      <th>1</th>\n",
       "      <td>Y ~ some_mediator</td>\n",
       "      <td>1.000000</td>\n",
       "      <td>1.829019e-17</td>\n",
       "      <td>0.00000</td>\n",
       "      <td>1.000000e+00</td>\n",
       "      <td>1.000000e+00</td>\n",
       "      <td>Yes</td>\n",
       "    </tr>\n",
       "    <tr>\n",
       "      <th>2</th>\n",
       "      <td>Total</td>\n",
       "      <td>0.002185</td>\n",
       "      <td>9.473629e-03</td>\n",
       "      <td>0.81775</td>\n",
       "      <td>-1.644048e-02</td>\n",
       "      <td>2.080960e-02</td>\n",
       "      <td>No</td>\n",
       "    </tr>\n",
       "    <tr>\n",
       "      <th>3</th>\n",
       "      <td>Direct</td>\n",
       "      <td>0.000000</td>\n",
       "      <td>1.053626e-17</td>\n",
       "      <td>1.00000</td>\n",
       "      <td>-2.071432e-17</td>\n",
       "      <td>2.071432e-17</td>\n",
       "      <td>No</td>\n",
       "    </tr>\n",
       "    <tr>\n",
       "      <th>4</th>\n",
       "      <td>Indirect</td>\n",
       "      <td>0.002185</td>\n",
       "      <td>9.091138e-03</td>\n",
       "      <td>0.77200</td>\n",
       "      <td>-1.577289e-02</td>\n",
       "      <td>1.928502e-02</td>\n",
       "      <td>No</td>\n",
       "    </tr>\n",
       "  </tbody>\n",
       "</table>\n",
       "</div>"
      ],
      "text/plain": [
       "                path      coef            se     pval      CI[2.5%]  \\\n",
       "0  some_mediator ~ X  0.002185  9.473629e-03  0.81775 -1.644048e-02   \n",
       "1  Y ~ some_mediator  1.000000  1.829019e-17  0.00000  1.000000e+00   \n",
       "2              Total  0.002185  9.473629e-03  0.81775 -1.644048e-02   \n",
       "3             Direct  0.000000  1.053626e-17  1.00000 -2.071432e-17   \n",
       "4           Indirect  0.002185  9.091138e-03  0.77200 -1.577289e-02   \n",
       "\n",
       "      CI[97.5%]  sig  \n",
       "0  2.080960e-02   No  \n",
       "1  1.000000e+00  Yes  \n",
       "2  2.080960e-02   No  \n",
       "3  2.071432e-17   No  \n",
       "4  1.928502e-02   No  "
      ]
     },
     "execution_count": 37,
     "metadata": {},
     "output_type": "execute_result"
    }
   ],
   "source": [
    "pg.mediation_analysis(data=df, x='age', m='some_mediator', y='dv', seed=42, n_boot=1000)"
   ]
  },
  {
   "attachments": {},
   "cell_type": "markdown",
   "metadata": {},
   "source": [
    "### Regression analysis"
   ]
  },
  {
   "cell_type": "code",
   "execution_count": 38,
   "metadata": {},
   "outputs": [
    {
     "data": {
      "text/html": [
       "<table class=\"simpletable\">\n",
       "<caption>OLS Regression Results</caption>\n",
       "<tr>\n",
       "  <th>Dep. Variable:</th>           <td>dv</td>        <th>  R-squared:         </th> <td>   0.108</td>\n",
       "</tr>\n",
       "<tr>\n",
       "  <th>Model:</th>                   <td>OLS</td>       <th>  Adj. R-squared:    </th> <td>   0.097</td>\n",
       "</tr>\n",
       "<tr>\n",
       "  <th>Method:</th>             <td>Least Squares</td>  <th>  F-statistic:       </th> <td>   9.460</td>\n",
       "</tr>\n",
       "<tr>\n",
       "  <th>Date:</th>             <td>Tue, 30 May 2023</td> <th>  Prob (F-statistic):</th> <td>1.58e-08</td>\n",
       "</tr>\n",
       "<tr>\n",
       "  <th>Time:</th>                 <td>17:09:18</td>     <th>  Log-Likelihood:    </th> <td> -306.09</td>\n",
       "</tr>\n",
       "<tr>\n",
       "  <th>No. Observations:</th>      <td>   397</td>      <th>  AIC:               </th> <td>   624.2</td>\n",
       "</tr>\n",
       "<tr>\n",
       "  <th>Df Residuals:</th>          <td>   391</td>      <th>  BIC:               </th> <td>   648.1</td>\n",
       "</tr>\n",
       "<tr>\n",
       "  <th>Df Model:</th>              <td>     5</td>      <th>                     </th>     <td> </td>   \n",
       "</tr>\n",
       "<tr>\n",
       "  <th>Covariance Type:</th>      <td>nonrobust</td>    <th>                     </th>     <td> </td>   \n",
       "</tr>\n",
       "</table>\n",
       "<table class=\"simpletable\">\n",
       "<tr>\n",
       "          <td></td>             <th>coef</th>     <th>std err</th>      <th>t</th>      <th>P>|t|</th>  <th>[0.025</th>    <th>0.975]</th>  \n",
       "</tr>\n",
       "<tr>\n",
       "  <th>Intercept</th>         <td>    2.5962</td> <td>    0.208</td> <td>   12.469</td> <td> 0.000</td> <td>    2.187</td> <td>    3.006</td>\n",
       "</tr>\n",
       "<tr>\n",
       "  <th>C(group)[T.2]</th>     <td>   -0.2127</td> <td>    0.077</td> <td>   -2.775</td> <td> 0.006</td> <td>   -0.363</td> <td>   -0.062</td>\n",
       "</tr>\n",
       "<tr>\n",
       "  <th>C(group)[T.3]</th>     <td>    0.0922</td> <td>    0.075</td> <td>    1.231</td> <td> 0.219</td> <td>   -0.055</td> <td>    0.239</td>\n",
       "</tr>\n",
       "<tr>\n",
       "  <th>C(group)[T.4]</th>     <td>    0.2934</td> <td>    0.074</td> <td>    3.940</td> <td> 0.000</td> <td>    0.147</td> <td>    0.440</td>\n",
       "</tr>\n",
       "<tr>\n",
       "  <th>C(gender)[T.male]</th> <td>    0.0168</td> <td>    0.053</td> <td>    0.314</td> <td> 0.754</td> <td>   -0.088</td> <td>    0.122</td>\n",
       "</tr>\n",
       "<tr>\n",
       "  <th>age</th>               <td>    0.0029</td> <td>    0.009</td> <td>    0.322</td> <td> 0.747</td> <td>   -0.015</td> <td>    0.021</td>\n",
       "</tr>\n",
       "</table>\n",
       "<table class=\"simpletable\">\n",
       "<tr>\n",
       "  <th>Omnibus:</th>       <td> 0.507</td> <th>  Durbin-Watson:     </th> <td>   1.950</td>\n",
       "</tr>\n",
       "<tr>\n",
       "  <th>Prob(Omnibus):</th> <td> 0.776</td> <th>  Jarque-Bera (JB):  </th> <td>   0.621</td>\n",
       "</tr>\n",
       "<tr>\n",
       "  <th>Skew:</th>          <td>-0.017</td> <th>  Prob(JB):          </th> <td>   0.733</td>\n",
       "</tr>\n",
       "<tr>\n",
       "  <th>Kurtosis:</th>      <td> 2.809</td> <th>  Cond. No.          </th> <td>    180.</td>\n",
       "</tr>\n",
       "</table><br/><br/>Notes:<br/>[1] Standard Errors assume that the covariance matrix of the errors is correctly specified."
      ],
      "text/latex": [
       "\\begin{center}\n",
       "\\begin{tabular}{lclc}\n",
       "\\toprule\n",
       "\\textbf{Dep. Variable:}    &        dv        & \\textbf{  R-squared:         } &     0.108   \\\\\n",
       "\\textbf{Model:}            &       OLS        & \\textbf{  Adj. R-squared:    } &     0.097   \\\\\n",
       "\\textbf{Method:}           &  Least Squares   & \\textbf{  F-statistic:       } &     9.460   \\\\\n",
       "\\textbf{Date:}             & Tue, 30 May 2023 & \\textbf{  Prob (F-statistic):} &  1.58e-08   \\\\\n",
       "\\textbf{Time:}             &     17:09:18     & \\textbf{  Log-Likelihood:    } &   -306.09   \\\\\n",
       "\\textbf{No. Observations:} &         397      & \\textbf{  AIC:               } &     624.2   \\\\\n",
       "\\textbf{Df Residuals:}     &         391      & \\textbf{  BIC:               } &     648.1   \\\\\n",
       "\\textbf{Df Model:}         &           5      & \\textbf{                     } &             \\\\\n",
       "\\textbf{Covariance Type:}  &    nonrobust     & \\textbf{                     } &             \\\\\n",
       "\\bottomrule\n",
       "\\end{tabular}\n",
       "\\begin{tabular}{lcccccc}\n",
       "                           & \\textbf{coef} & \\textbf{std err} & \\textbf{t} & \\textbf{P$> |$t$|$} & \\textbf{[0.025} & \\textbf{0.975]}  \\\\\n",
       "\\midrule\n",
       "\\textbf{Intercept}         &       2.5962  &        0.208     &    12.469  &         0.000        &        2.187    &        3.006     \\\\\n",
       "\\textbf{C(group)[T.2]}     &      -0.2127  &        0.077     &    -2.775  &         0.006        &       -0.363    &       -0.062     \\\\\n",
       "\\textbf{C(group)[T.3]}     &       0.0922  &        0.075     &     1.231  &         0.219        &       -0.055    &        0.239     \\\\\n",
       "\\textbf{C(group)[T.4]}     &       0.2934  &        0.074     &     3.940  &         0.000        &        0.147    &        0.440     \\\\\n",
       "\\textbf{C(gender)[T.male]} &       0.0168  &        0.053     &     0.314  &         0.754        &       -0.088    &        0.122     \\\\\n",
       "\\textbf{age}               &       0.0029  &        0.009     &     0.322  &         0.747        &       -0.015    &        0.021     \\\\\n",
       "\\bottomrule\n",
       "\\end{tabular}\n",
       "\\begin{tabular}{lclc}\n",
       "\\textbf{Omnibus:}       &  0.507 & \\textbf{  Durbin-Watson:     } &    1.950  \\\\\n",
       "\\textbf{Prob(Omnibus):} &  0.776 & \\textbf{  Jarque-Bera (JB):  } &    0.621  \\\\\n",
       "\\textbf{Skew:}          & -0.017 & \\textbf{  Prob(JB):          } &    0.733  \\\\\n",
       "\\textbf{Kurtosis:}      &  2.809 & \\textbf{  Cond. No.          } &     180.  \\\\\n",
       "\\bottomrule\n",
       "\\end{tabular}\n",
       "%\\caption{OLS Regression Results}\n",
       "\\end{center}\n",
       "\n",
       "Notes: \\newline\n",
       " [1] Standard Errors assume that the covariance matrix of the errors is correctly specified."
      ],
      "text/plain": [
       "<class 'statsmodels.iolib.summary.Summary'>\n",
       "\"\"\"\n",
       "                            OLS Regression Results                            \n",
       "==============================================================================\n",
       "Dep. Variable:                     dv   R-squared:                       0.108\n",
       "Model:                            OLS   Adj. R-squared:                  0.097\n",
       "Method:                 Least Squares   F-statistic:                     9.460\n",
       "Date:                Tue, 30 May 2023   Prob (F-statistic):           1.58e-08\n",
       "Time:                        17:09:18   Log-Likelihood:                -306.09\n",
       "No. Observations:                 397   AIC:                             624.2\n",
       "Df Residuals:                     391   BIC:                             648.1\n",
       "Df Model:                           5                                         \n",
       "Covariance Type:            nonrobust                                         \n",
       "=====================================================================================\n",
       "                        coef    std err          t      P>|t|      [0.025      0.975]\n",
       "-------------------------------------------------------------------------------------\n",
       "Intercept             2.5962      0.208     12.469      0.000       2.187       3.006\n",
       "C(group)[T.2]        -0.2127      0.077     -2.775      0.006      -0.363      -0.062\n",
       "C(group)[T.3]         0.0922      0.075      1.231      0.219      -0.055       0.239\n",
       "C(group)[T.4]         0.2934      0.074      3.940      0.000       0.147       0.440\n",
       "C(gender)[T.male]     0.0168      0.053      0.314      0.754      -0.088       0.122\n",
       "age                   0.0029      0.009      0.322      0.747      -0.015       0.021\n",
       "==============================================================================\n",
       "Omnibus:                        0.507   Durbin-Watson:                   1.950\n",
       "Prob(Omnibus):                  0.776   Jarque-Bera (JB):                0.621\n",
       "Skew:                          -0.017   Prob(JB):                        0.733\n",
       "Kurtosis:                       2.809   Cond. No.                         180.\n",
       "==============================================================================\n",
       "\n",
       "Notes:\n",
       "[1] Standard Errors assume that the covariance matrix of the errors is correctly specified.\n",
       "\"\"\""
      ]
     },
     "execution_count": 38,
     "metadata": {},
     "output_type": "execute_result"
    }
   ],
   "source": [
    "# This is how one could compare the groups using a regresion analysis.\n",
    "\n",
    "ols(\"dv~C(group) + age + C(gender)\", data=df).fit().summary()"
   ]
  }
 ],
 "metadata": {
  "kernelspec": {
   "display_name": "Python 3 (ipykernel)",
   "language": "python",
   "name": "python3"
  },
  "language_info": {
   "codemirror_mode": {
    "name": "ipython",
    "version": 3
   },
   "file_extension": ".py",
   "mimetype": "text/x-python",
   "name": "python",
   "nbconvert_exporter": "python",
   "pygments_lexer": "ipython3",
   "version": "3.11.3"
  }
 },
 "nbformat": 4,
 "nbformat_minor": 4
}
