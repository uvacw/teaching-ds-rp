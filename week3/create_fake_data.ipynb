{
 "cells": [
  {
   "cell_type": "code",
   "execution_count": 1,
   "metadata": {},
   "outputs": [],
   "source": [
    "import numpy as np\n",
    "import pandas as pd\n",
    "import scipy.stats\n",
    "\n",
    "np.random.seed(2023)\n",
    "\n",
    "n1,n2,n3,n4 = 98, 92, 102, 105"
   ]
  },
  {
   "cell_type": "code",
   "execution_count": 2,
   "metadata": {},
   "outputs": [],
   "source": [
    "lower = 1\n",
    "upper = 5\n",
    "mu = 3.3\n",
    "sigma = 0.7\n",
    "N = n1\n",
    "\n",
    "g1 = scipy.stats.truncnorm.rvs(\n",
    "          (lower-mu)/sigma,(upper-mu)/sigma,loc=mu,scale=sigma,size=N)"
   ]
  },
  {
   "cell_type": "code",
   "execution_count": 3,
   "metadata": {},
   "outputs": [],
   "source": [
    "mu = 3.0\n",
    "sigma = 0.8\n",
    "N = n2\n",
    "\n",
    "g2 = scipy.stats.truncnorm.rvs(\n",
    "          (lower-mu)/sigma,(upper-mu)/sigma,loc=mu,scale=sigma,size=N)"
   ]
  },
  {
   "cell_type": "code",
   "execution_count": 4,
   "metadata": {},
   "outputs": [],
   "source": [
    "mu = 3.4\n",
    "sigma = 0.6\n",
    "N = n3\n",
    "\n",
    "g3 = scipy.stats.truncnorm.rvs(\n",
    "          (lower-mu)/sigma,(upper-mu)/sigma,loc=mu,scale=sigma,size=N)"
   ]
  },
  {
   "cell_type": "code",
   "execution_count": 5,
   "metadata": {},
   "outputs": [],
   "source": [
    "mu = 3.8\n",
    "sigma = 0.9\n",
    "N = n4\n",
    "\n",
    "g4 = scipy.stats.truncnorm.rvs(\n",
    "          (lower-mu)/sigma,(upper-mu)/sigma,loc=mu,scale=sigma,size=N)"
   ]
  },
  {
   "cell_type": "code",
   "execution_count": 6,
   "metadata": {},
   "outputs": [],
   "source": [
    "gender = np.random.choice(['male','female'], size=n1+n2+n3+n4)\n",
    "age = np.random.randint(low=18, high=28, size=n1+n2+n3+n4)"
   ]
  },
  {
   "cell_type": "code",
   "execution_count": 7,
   "metadata": {},
   "outputs": [],
   "source": [
    "df = pd.concat([pd.DataFrame({'dv':g1,'group':1}), \n",
    "           pd.DataFrame({'dv':g2,'group':2}),\n",
    "           pd.DataFrame({'dv':g3,'group':3}),\n",
    "           pd.DataFrame({'dv':g4,'group':4})])\n",
    "df['gender'] = gender\n",
    "df['age'] = age"
   ]
  },
  {
   "cell_type": "code",
   "execution_count": 8,
   "metadata": {},
   "outputs": [],
   "source": [
    "x1 = [value * np.random.normal(loc = 1, scale = 0.1) for value in df['dv']]\n",
    "x2 = [value * np.random.normal(loc = 0.9, scale = 0.2) for value in df['dv']]\n",
    "x3 = [value * np.random.normal(loc = 1.1, scale = 0.3) for value in df['dv']]\n",
    "x4 = [value + np.random.normal(loc = 0, scale = 0.4) for value in df['dv']]\n",
    "x5 = [value + np.random.normal() for value in df['dv']]"
   ]
  },
  {
   "cell_type": "code",
   "execution_count": 9,
   "metadata": {},
   "outputs": [],
   "source": [
    "def reset(input):\n",
    "    output = [np.rint((i-min(input))/(max(input)-min(input))*4+1) for i in input]\n",
    "    return output"
   ]
  },
  {
   "cell_type": "code",
   "execution_count": 10,
   "metadata": {},
   "outputs": [],
   "source": [
    "df['x1'] = reset(x1)\n",
    "df['x2'] = reset(x2)\n",
    "df['x3'] = reset(x3)\n",
    "df['x4'] = reset(x4)\n",
    "df['x5'] = reset(x5)"
   ]
  },
  {
   "cell_type": "code",
   "execution_count": 11,
   "metadata": {},
   "outputs": [],
   "source": [
    "df = df.drop('dv', axis = 1)"
   ]
  },
  {
   "cell_type": "code",
   "execution_count": 12,
   "metadata": {},
   "outputs": [],
   "source": [
    "df.to_csv('data.csv', index=False)"
   ]
  }
 ],
 "metadata": {
  "kernelspec": {
   "display_name": "Python 3",
   "language": "python",
   "name": "python3"
  },
  "language_info": {
   "codemirror_mode": {
    "name": "ipython",
    "version": 3
   },
   "file_extension": ".py",
   "mimetype": "text/x-python",
   "name": "python",
   "nbconvert_exporter": "python",
   "pygments_lexer": "ipython3",
   "version": "3.11.3"
  },
  "orig_nbformat": 4
 },
 "nbformat": 4,
 "nbformat_minor": 2
}
